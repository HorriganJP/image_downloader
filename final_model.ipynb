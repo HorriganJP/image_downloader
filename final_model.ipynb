{
 "cells": [
  {
   "cell_type": "markdown",
   "metadata": {
    "papermill": {
     "duration": 0.027603,
     "end_time": "2021-04-05T10:52:48.424286",
     "exception": false,
     "start_time": "2021-04-05T10:52:48.396683",
     "status": "completed"
    },
    "tags": []
   },
   "source": [
    "# Final Project: Flu Shot Learning: Predict H1N1 and Seasonal Flu Vaccines - Hosted by DRIVENDATA\n",
    "\n",
    "### 1. Problem Statement\n",
    "*Predict the liklihood an individual received the H1N1 and flu vaccine*\n",
    "\n",
    "### 2. Metrics and Assumptions\n",
    "Previous submissions to *https://www.drivendata.org/competitions/66/flu-shot-learning/* suggest there is an estimated irreducible error of approximately 13 percent.\n",
    "\n",
    "### 3. Data Source\n",
    "The United States National Center for Immunized and Respiratory Diseases (NCIRD) and National Center for Health Statistics (NCHS), two organizations within the Centers for Disease Control and Prevention (CDC), conducted a national survey of American households to determine socio-economic indicators of individauls who have/have not received the H1N1 and seasonal flu vaccines. The survey was conducted between October 2009 and June 2010. \n",
    "\n",
    "### 4. Target and Feature Variables\n",
    "This dataset has two target variables. Both are binary variables (0,1) that correspond to a respondent receiving either the H1N1 flu vaccine or the seasonal flu vaccine.\n",
    "\n",
    "This dataset contains 36 columns (35 excluding the respondent id). 12 feature variables are objects containing economic, race, sex, age, and lifestyle indicators; and rest of the feature variables consist of binary and likert scale questions on health behaviors, indicators, and knowledge. I included all feature variables in my analysis.\n",
    "\n",
    "### 5. Model Approach\n",
    "Classification on probability. Performance for this model was evalutated using the Area Under the Receiver Operating Characteristic Curve (ROC AUC) for each target variable. Submission to DataDriven must include three columns: 'respondent_id', 'h1n1_vaccine', and 'seasonal_vaccine' where each target variable should be a probability between 0.0 and 1.0 that the respondent recieved each vaccine. "
   ]
  },
  {
   "cell_type": "markdown",
   "metadata": {
    "papermill": {
     "duration": 0.025873,
     "end_time": "2021-04-05T10:52:48.476557",
     "exception": false,
     "start_time": "2021-04-05T10:52:48.450684",
     "status": "completed"
    },
    "tags": []
   },
   "source": [
    "#### Package Dependancies"
   ]
  },
  {
   "cell_type": "code",
   "execution_count": 127,
   "metadata": {
    "_cell_guid": "b1076dfc-b9ad-4769-8c92-a6c4dae69d19",
    "_uuid": "8f2839f25d086af736a60e9eeb907d3b93b6e0e5",
    "papermill": {
     "duration": 2.63027,
     "end_time": "2021-04-05T10:52:51.132821",
     "exception": false,
     "start_time": "2021-04-05T10:52:48.502551",
     "status": "completed"
    },
    "tags": []
   },
   "outputs": [],
   "source": [
    "import pandas as pd\n",
    "import numpy as np\n",
    "import os\n",
    "import matplotlib.pyplot as plt\n",
    "import seaborn as sns\n",
    "\n",
    "from sklearn.model_selection import train_test_split, GridSearchCV\n",
    "from sklearn.ensemble import RandomForestClassifier, RandomForestRegressor\n",
    "from sklearn.tree import DecisionTreeClassifier\n",
    "from sklearn.svm import SVC\n",
    "from sklearn import svm\n",
    "from sklearn.neural_network import MLPClassifier\n",
    "from sklearn.metrics import confusion_matrix, classification_report, roc_curve, roc_auc_score\n",
    "from sklearn.preprocessing import StandardScaler, LabelEncoder, OneHotEncoder, MinMaxScaler\n",
    "from sklearn.naive_bayes import GaussianNB\n",
    "from sklearn.linear_model import LogisticRegression\n",
    "from sklearn.neighbors import KNeighborsClassifier\n",
    "from sklearn.multioutput import MultiOutputClassifier\n",
    "from sklearn.pipeline import Pipeline\n",
    "from sklearn.impute import SimpleImputer\n",
    "from sklearn.compose import ColumnTransformer\n",
    "\n",
    "from catboost import CatBoostClassifier\n",
    "from catboost import Pool, cv\n",
    "import optuna\n",
    "\n",
    "%matplotlib inline"
   ]
  },
  {
   "cell_type": "markdown",
   "metadata": {
    "papermill": {
     "duration": 0.026978,
     "end_time": "2021-04-05T10:52:51.188433",
     "exception": false,
     "start_time": "2021-04-05T10:52:51.161455",
     "status": "completed"
    },
    "tags": []
   },
   "source": [
    "### Data Import"
   ]
  },
  {
   "cell_type": "code",
   "execution_count": 128,
   "metadata": {
    "papermill": {
     "duration": 0.167931,
     "end_time": "2021-04-05T10:52:51.382929",
     "exception": false,
     "start_time": "2021-04-05T10:52:51.214998",
     "status": "completed"
    },
    "tags": []
   },
   "outputs": [
    {
     "name": "stdout",
     "output_type": "stream",
     "text": [
      "<class 'pandas.core.frame.DataFrame'>\n",
      "Int64Index: 26707 entries, 0 to 26706\n",
      "Data columns (total 37 columns):\n",
      " #   Column                       Non-Null Count  Dtype  \n",
      "---  ------                       --------------  -----  \n",
      " 0   h1n1_concern                 26615 non-null  float64\n",
      " 1   h1n1_knowledge               26591 non-null  float64\n",
      " 2   behavioral_antiviral_meds    26636 non-null  float64\n",
      " 3   behavioral_avoidance         26499 non-null  float64\n",
      " 4   behavioral_face_mask         26688 non-null  float64\n",
      " 5   behavioral_wash_hands        26665 non-null  float64\n",
      " 6   behavioral_large_gatherings  26620 non-null  float64\n",
      " 7   behavioral_outside_home      26625 non-null  float64\n",
      " 8   behavioral_touch_face        26579 non-null  float64\n",
      " 9   doctor_recc_h1n1             24547 non-null  float64\n",
      " 10  doctor_recc_seasonal         24547 non-null  float64\n",
      " 11  chronic_med_condition        25736 non-null  float64\n",
      " 12  child_under_6_months         25887 non-null  float64\n",
      " 13  health_worker                25903 non-null  float64\n",
      " 14  health_insurance             14433 non-null  float64\n",
      " 15  opinion_h1n1_vacc_effective  26316 non-null  float64\n",
      " 16  opinion_h1n1_risk            26319 non-null  float64\n",
      " 17  opinion_h1n1_sick_from_vacc  26312 non-null  float64\n",
      " 18  opinion_seas_vacc_effective  26245 non-null  float64\n",
      " 19  opinion_seas_risk            26193 non-null  float64\n",
      " 20  opinion_seas_sick_from_vacc  26170 non-null  float64\n",
      " 21  age_group                    26707 non-null  object \n",
      " 22  education                    25300 non-null  object \n",
      " 23  race                         26707 non-null  object \n",
      " 24  sex                          26707 non-null  object \n",
      " 25  income_poverty               22284 non-null  object \n",
      " 26  marital_status               25299 non-null  object \n",
      " 27  rent_or_own                  24665 non-null  object \n",
      " 28  employment_status            25244 non-null  object \n",
      " 29  hhs_geo_region               26707 non-null  object \n",
      " 30  census_msa                   26707 non-null  object \n",
      " 31  household_adults             26458 non-null  float64\n",
      " 32  household_children           26458 non-null  float64\n",
      " 33  employment_industry          13377 non-null  object \n",
      " 34  employment_occupation        13237 non-null  object \n",
      " 35  h1n1_vaccine                 26707 non-null  int64  \n",
      " 36  seasonal_vaccine             26707 non-null  int64  \n",
      "dtypes: float64(23), int64(2), object(12)\n",
      "memory usage: 9.0+ MB\n"
     ]
    }
   ],
   "source": [
    "df = pd.read_csv(r\"Documents/H1N1 Predictions/training_set_features.csv\", index_col='respondent_id')\n",
    "labels_df = pd.read_csv(r\"Documents/H1N1 Predictions/training_set_labels.csv\", index_col='respondent_id')\n",
    "test_df = pd.read_csv(r'Documents/H1N1 Predictions/test_set_features.csv', index_col='respondent_id')\n",
    "np.testing.assert_array_equal(df.index.values, labels_df.index.values)\n",
    "\n",
    "df = df.join(labels_df)\n",
    "df.info()"
   ]
  },
  {
   "cell_type": "markdown",
   "metadata": {
    "papermill": {
     "duration": 0.02676,
     "end_time": "2021-04-05T10:52:51.437398",
     "exception": false,
     "start_time": "2021-04-05T10:52:51.410638",
     "status": "completed"
    },
    "tags": []
   },
   "source": [
    "### Handling Missing Values"
   ]
  },
  {
   "cell_type": "code",
   "execution_count": 129,
   "metadata": {
    "papermill": {
     "duration": 0.051664,
     "end_time": "2021-04-05T10:52:51.516185",
     "exception": false,
     "start_time": "2021-04-05T10:52:51.464521",
     "status": "completed"
    },
    "tags": []
   },
   "outputs": [],
   "source": [
    "from sklearn.preprocessing import LabelEncoder\n",
    "label_encoder = LabelEncoder()"
   ]
  },
  {
   "cell_type": "code",
   "execution_count": 130,
   "metadata": {
    "papermill": {
     "duration": 0.05337,
     "end_time": "2021-04-05T10:52:51.597351",
     "exception": false,
     "start_time": "2021-04-05T10:52:51.543981",
     "status": "completed"
    },
    "tags": []
   },
   "outputs": [],
   "source": [
    "num_cols = df.select_dtypes('number').columns\n",
    "obj_cols = df.select_dtypes('object').columns\n",
    "\n",
    "test_num_cols = test_df.select_dtypes('number').columns"
   ]
  },
  {
   "cell_type": "code",
   "execution_count": 131,
   "metadata": {
    "papermill": {
     "duration": 0.055161,
     "end_time": "2021-04-05T10:52:51.682476",
     "exception": false,
     "start_time": "2021-04-05T10:52:51.627315",
     "status": "completed"
    },
    "tags": []
   },
   "outputs": [
    {
     "data": {
      "text/plain": [
       "pandas.core.indexes.base.Index"
      ]
     },
     "execution_count": 131,
     "metadata": {},
     "output_type": "execute_result"
    }
   ],
   "source": [
    "type(obj_cols)"
   ]
  },
  {
   "cell_type": "code",
   "execution_count": 132,
   "metadata": {
    "papermill": {
     "duration": 0.057244,
     "end_time": "2021-04-05T10:52:51.768601",
     "exception": false,
     "start_time": "2021-04-05T10:52:51.711357",
     "status": "completed"
    },
    "tags": []
   },
   "outputs": [],
   "source": [
    "#TRAINING DATASET\n",
    "for col in (obj_cols):\n",
    "    df[col] = df[col].fillna(value=test_df[col].mode())\n",
    "    \n",
    "for col in num_cols:\n",
    "    df[col] = df[col].fillna(value=-1)\n",
    "\n",
    "#TEST DATASET\n",
    "for col in (obj_cols):\n",
    "    test_df[col] = test_df[col].fillna(value=test_df[col].mode())\n",
    "    \n",
    "for col in test_num_cols:\n",
    "    test_df[col] = test_df[col].fillna(value=-1)"
   ]
  },
  {
   "cell_type": "code",
   "execution_count": 133,
   "metadata": {
    "papermill": {
     "duration": 0.056812,
     "end_time": "2021-04-05T10:52:51.855540",
     "exception": false,
     "start_time": "2021-04-05T10:52:51.798728",
     "status": "completed"
    },
    "tags": []
   },
   "outputs": [],
   "source": [
    "df = pd.get_dummies(df, columns=obj_cols)\n",
    "test_df = pd.get_dummies(test_df, columns=obj_cols)"
   ]
  },
  {
   "cell_type": "code",
   "execution_count": 134,
   "metadata": {
    "papermill": {
     "duration": 0.057209,
     "end_time": "2021-04-05T10:52:51.942667",
     "exception": false,
     "start_time": "2021-04-05T10:52:51.885458",
     "status": "completed"
    },
    "tags": []
   },
   "outputs": [
    {
     "data": {
      "text/plain": [
       "h1n1_concern                      0\n",
       "h1n1_knowledge                    0\n",
       "behavioral_antiviral_meds         0\n",
       "behavioral_avoidance              0\n",
       "behavioral_face_mask              0\n",
       "                                 ..\n",
       "employment_occupation_vlluhbov    0\n",
       "employment_occupation_xgwztkwe    0\n",
       "employment_occupation_xqwwgdyp    0\n",
       "employment_occupation_xtkaffoo    0\n",
       "employment_occupation_xzmlyyjv    0\n",
       "Length: 105, dtype: int64"
      ]
     },
     "execution_count": 134,
     "metadata": {},
     "output_type": "execute_result"
    }
   ],
   "source": [
    "test_df.isna().sum()"
   ]
  },
  {
   "cell_type": "code",
   "execution_count": 135,
   "metadata": {
    "papermill": {
     "duration": 0.058833,
     "end_time": "2021-04-05T10:52:52.032126",
     "exception": false,
     "start_time": "2021-04-05T10:52:51.973293",
     "status": "completed"
    },
    "tags": []
   },
   "outputs": [],
   "source": [
    "# COPY DATASET TO PREDICT H1N1 VACCINE EXCLUSIVELY\n",
    "\n",
    "h1n1_df = df\n",
    "h1n1_df = h1n1_df.dropna(axis=1)\n",
    "y = h1n1_df['h1n1_vaccine']\n",
    "X = h1n1_df.drop(columns=['h1n1_vaccine','seasonal_vaccine'])\n",
    "X_train, X_test, y_train, y_test = train_test_split(X, y, test_size=0.3, random_state=42)"
   ]
  },
  {
   "cell_type": "code",
   "execution_count": 136,
   "metadata": {
    "papermill": {
     "duration": 0.057185,
     "end_time": "2021-04-05T10:52:52.120073",
     "exception": false,
     "start_time": "2021-04-05T10:52:52.062888",
     "status": "completed"
    },
    "tags": []
   },
   "outputs": [
    {
     "data": {
      "text/plain": [
       "array([ 23,  24,  25,  26,  27,  28,  29,  30,  31,  32,  33,  34,  35,\n",
       "        36,  37,  38,  39,  40,  41,  42,  43,  44,  45,  46,  47,  48,\n",
       "        49,  50,  51,  52,  53,  54,  55,  56,  57,  58,  59,  60,  61,\n",
       "        62,  63,  64,  65,  66,  67,  68,  69,  70,  71,  72,  73,  74,\n",
       "        75,  76,  77,  78,  79,  80,  81,  82,  83,  84,  85,  86,  87,\n",
       "        88,  89,  90,  91,  92,  93,  94,  95,  96,  97,  98,  99, 100,\n",
       "       101, 102, 103, 104], dtype=int64)"
      ]
     },
     "execution_count": 136,
     "metadata": {},
     "output_type": "execute_result"
    }
   ],
   "source": [
    "# IDENTIFY COLUMNS WITH CATEGORICAL FEATURES\n",
    "\n",
    "cat_features = np.where(X_train.dtypes != float)[0]\n",
    "cat_features"
   ]
  },
  {
   "cell_type": "code",
   "execution_count": 137,
   "metadata": {
    "papermill": {
     "duration": 0.058544,
     "end_time": "2021-04-05T10:52:52.209645",
     "exception": false,
     "start_time": "2021-04-05T10:52:52.151101",
     "status": "completed"
    },
    "tags": []
   },
   "outputs": [],
   "source": [
    "# API Reference: https://catboost.ai/docs/concepts/python-reference_pool.html\n",
    "# CatBoost Pool preprocesses / wraps the dataset\n",
    "\n",
    "train_dataset = Pool(data=X_train,\n",
    "                     label=y_train,\n",
    "                     cat_features = cat_features)"
   ]
  },
  {
   "cell_type": "code",
   "execution_count": 138,
   "metadata": {
    "papermill": {
     "duration": 0.048591,
     "end_time": "2021-04-05T10:52:52.289896",
     "exception": false,
     "start_time": "2021-04-05T10:52:52.241305",
     "status": "completed"
    },
    "tags": []
   },
   "outputs": [],
   "source": [
    "def objective(trial):\n",
    "    \n",
    "    # Optuna Trial API Reference: https://optuna.readthedocs.io/en/stable/reference/generated/optuna.trial.Trial.html\n",
    "    # Trial determines best AUC mean by refining hyperparameter suggestions\n",
    "    # For most param APIs: https://catboost.ai/docs/search/?query=od_type\n",
    "    \n",
    "    param = {\n",
    "        # The maximum number of trees that can be built when solving machine learning problems.\n",
    "        'iterations':trial.suggest_categorical('iterations', [100,200,300,500,1000,1200,1500,2000,3000,4000,5000]),\n",
    "        \n",
    "        # The learning rate. Used for reducing the gradient step.\n",
    "        'learning_rate':trial.suggest_float(\"learning_rate\", 0.001, 0.3),\n",
    "        \n",
    "        'random_strength':trial.suggest_int(\"random_strength\", 1,10),\n",
    "        \n",
    "        # Defines the settings of the Bayesian bootstrap. It is used by default in classification and regression modes. \n",
    "        # Use the Bayesian bootstrap to assign random weights to objects.\n",
    "        'bagging_temperature':trial.suggest_int(\"bagging_temperature\", 0,10),\n",
    "        \n",
    "        'max_bin':trial.suggest_categorical('max_bin', [4,5,6,8,10,20,30]),\n",
    "        \n",
    "        # Defines how to perform greedy tree construction. ['SymmetricTree', 'Depthwise', 'Lossguide'] are all available hyperparams\n",
    "        'grow_policy':trial.suggest_categorical('grow_policy', ['SymmetricTree', 'Depthwise', 'Lossguide']),\n",
    "        \n",
    "        # The minimum number of training samples in a leaf. \n",
    "        'min_data_in_leaf':trial.suggest_int(\"min_data_in_leaf\", 1,10),\n",
    "        \n",
    "        # Overfitting detector\n",
    "        'od_type' : \"Iter\",\n",
    "        \n",
    "        # Number of iterations to continue the training after the iteration with the optimal metric value.\n",
    "        'od_wait' : 100,\n",
    "        \n",
    "        # Depth of the tree\n",
    "        \"depth\": trial.suggest_int(\"max_depth\", 2,10),\n",
    "        \n",
    "        \"l2_leaf_reg\": trial.suggest_loguniform(\"l2_leaf_reg\", 1e-8, 100),\n",
    "        \n",
    "        'one_hot_max_size':trial.suggest_categorical('one_hot_max_size', [5,10,12,100,500,1024]),\n",
    "        \n",
    "        'custom_metric' : ['AUC'],\n",
    "        \n",
    "        # Classificatoin Objectives and Metrics: https://catboost.ai/docs/concepts/loss-functions-classification.html\n",
    "        # More about Log Loss: https://www.kaggle.com/dansbecker/what-is-log-loss\n",
    "        \"loss_function\": 'Logloss',\n",
    "        \n",
    "        # Scaling\n",
    "        'auto_class_weights':trial.suggest_categorical('auto_class_weights', ['Balanced', 'SqrtBalanced']),\n",
    "        }\n",
    "    \n",
    "    # CatBoost CV API Reference: https://catboost.ai/docs/concepts/python-reference_cv.html\n",
    "    # Utilizes OPTUNA params to determine best hyper paramaters and CatBoost's Cross Validation\n",
    "  \n",
    "    scores = cv(train_dataset,\n",
    "            param,\n",
    "            fold_count=10, \n",
    "            early_stopping_rounds=10,         \n",
    "            plot=False, verbose=False)\n",
    "\n",
    "    return scores['test-AUC-mean'].max()"
   ]
  },
  {
   "cell_type": "code",
   "execution_count": 139,
   "metadata": {
    "papermill": {
     "duration": 0.094655,
     "end_time": "2021-04-05T10:52:52.416506",
     "exception": false,
     "start_time": "2021-04-05T10:52:52.321851",
     "status": "completed"
    },
    "tags": []
   },
   "outputs": [
    {
     "name": "stderr",
     "output_type": "stream",
     "text": [
      "\u001b[32m[I 2021-04-07 22:36:14,722]\u001b[0m A new study created in memory with name: no-name-d5438db2-09a7-481c-8c24-9c5ff3c26bf2\u001b[0m\n",
      "\u001b[32m[I 2021-04-07 22:37:00,939]\u001b[0m Trial 0 finished with value: 0.8659522576072736 and parameters: {'iterations': 300, 'learning_rate': 0.013964954297408176, 'random_strength': 1, 'bagging_temperature': 8, 'max_bin': 10, 'grow_policy': 'Lossguide', 'min_data_in_leaf': 4, 'max_depth': 5, 'l2_leaf_reg': 21.328495943450676, 'one_hot_max_size': 100, 'auto_class_weights': 'SqrtBalanced'}. Best is trial 0 with value: 0.8659522576072736.\u001b[0m\n",
      "\u001b[32m[I 2021-04-07 22:37:26,619]\u001b[0m Trial 1 finished with value: 0.8661515849000121 and parameters: {'iterations': 1200, 'learning_rate': 0.11477165079768124, 'random_strength': 9, 'bagging_temperature': 6, 'max_bin': 5, 'grow_policy': 'Lossguide', 'min_data_in_leaf': 5, 'max_depth': 7, 'l2_leaf_reg': 0.5714362138520529, 'one_hot_max_size': 500, 'auto_class_weights': 'SqrtBalanced'}. Best is trial 1 with value: 0.8661515849000121.\u001b[0m\n"
     ]
    },
    {
     "name": "stdout",
     "output_type": "stream",
     "text": [
      "Stopped by overfitting detector  (10 iterations wait)\n"
     ]
    },
    {
     "name": "stderr",
     "output_type": "stream",
     "text": [
      "\u001b[32m[I 2021-04-07 22:37:39,261]\u001b[0m Trial 2 finished with value: 0.8324344309562843 and parameters: {'iterations': 500, 'learning_rate': 0.10424841039250944, 'random_strength': 8, 'bagging_temperature': 3, 'max_bin': 6, 'grow_policy': 'Depthwise', 'min_data_in_leaf': 3, 'max_depth': 10, 'l2_leaf_reg': 7.961547985302404e-08, 'one_hot_max_size': 5, 'auto_class_weights': 'Balanced'}. Best is trial 1 with value: 0.8661515849000121.\u001b[0m\n"
     ]
    },
    {
     "name": "stdout",
     "output_type": "stream",
     "text": [
      "Stopped by overfitting detector  (10 iterations wait)\n"
     ]
    },
    {
     "name": "stderr",
     "output_type": "stream",
     "text": [
      "\u001b[32m[I 2021-04-07 22:38:14,891]\u001b[0m Trial 3 finished with value: 0.8625857316074506 and parameters: {'iterations': 4000, 'learning_rate': 0.06981342303072555, 'random_strength': 6, 'bagging_temperature': 7, 'max_bin': 30, 'grow_policy': 'Lossguide', 'min_data_in_leaf': 3, 'max_depth': 6, 'l2_leaf_reg': 1.253388039132331e-06, 'one_hot_max_size': 500, 'auto_class_weights': 'SqrtBalanced'}. Best is trial 1 with value: 0.8661515849000121.\u001b[0m\n"
     ]
    },
    {
     "name": "stdout",
     "output_type": "stream",
     "text": [
      "Stopped by overfitting detector  (10 iterations wait)\n"
     ]
    },
    {
     "name": "stderr",
     "output_type": "stream",
     "text": [
      "\u001b[32m[I 2021-04-07 22:38:36,145]\u001b[0m Trial 4 finished with value: 0.8645234204971002 and parameters: {'iterations': 300, 'learning_rate': 0.19342991898511874, 'random_strength': 8, 'bagging_temperature': 7, 'max_bin': 20, 'grow_policy': 'Lossguide', 'min_data_in_leaf': 7, 'max_depth': 2, 'l2_leaf_reg': 0.0011659140576640084, 'one_hot_max_size': 12, 'auto_class_weights': 'SqrtBalanced'}. Best is trial 1 with value: 0.8661515849000121.\u001b[0m\n"
     ]
    },
    {
     "name": "stdout",
     "output_type": "stream",
     "text": [
      "Stopped by overfitting detector  (10 iterations wait)\n"
     ]
    },
    {
     "name": "stderr",
     "output_type": "stream",
     "text": [
      "\u001b[32m[I 2021-04-07 22:38:47,872]\u001b[0m Trial 5 finished with value: 0.8608266555516847 and parameters: {'iterations': 100, 'learning_rate': 0.21103536986772822, 'random_strength': 4, 'bagging_temperature': 4, 'max_bin': 6, 'grow_policy': 'Lossguide', 'min_data_in_leaf': 6, 'max_depth': 4, 'l2_leaf_reg': 1.5248267732768012e-08, 'one_hot_max_size': 100, 'auto_class_weights': 'SqrtBalanced'}. Best is trial 1 with value: 0.8661515849000121.\u001b[0m\n"
     ]
    },
    {
     "name": "stdout",
     "output_type": "stream",
     "text": [
      "Stopped by overfitting detector  (10 iterations wait)\n"
     ]
    },
    {
     "name": "stderr",
     "output_type": "stream",
     "text": [
      "\u001b[32m[I 2021-04-07 22:39:42,330]\u001b[0m Trial 6 finished with value: 0.8643937645965247 and parameters: {'iterations': 1000, 'learning_rate': 0.039222305770230614, 'random_strength': 5, 'bagging_temperature': 3, 'max_bin': 20, 'grow_policy': 'SymmetricTree', 'min_data_in_leaf': 10, 'max_depth': 4, 'l2_leaf_reg': 3.544948380552023e-06, 'one_hot_max_size': 10, 'auto_class_weights': 'Balanced'}. Best is trial 1 with value: 0.8661515849000121.\u001b[0m\n"
     ]
    },
    {
     "name": "stdout",
     "output_type": "stream",
     "text": [
      "Stopped by overfitting detector  (10 iterations wait)\n"
     ]
    },
    {
     "name": "stderr",
     "output_type": "stream",
     "text": [
      "\u001b[32m[I 2021-04-07 22:40:33,497]\u001b[0m Trial 7 finished with value: 0.8618390833729654 and parameters: {'iterations': 1000, 'learning_rate': 0.045869610193466345, 'random_strength': 9, 'bagging_temperature': 10, 'max_bin': 30, 'grow_policy': 'Lossguide', 'min_data_in_leaf': 8, 'max_depth': 5, 'l2_leaf_reg': 6.629274905463984e-06, 'one_hot_max_size': 12, 'auto_class_weights': 'Balanced'}. Best is trial 1 with value: 0.8661515849000121.\u001b[0m\n"
     ]
    },
    {
     "name": "stdout",
     "output_type": "stream",
     "text": [
      "Stopped by overfitting detector  (10 iterations wait)\n"
     ]
    },
    {
     "name": "stderr",
     "output_type": "stream",
     "text": [
      "\u001b[32m[I 2021-04-07 22:40:43,227]\u001b[0m Trial 8 finished with value: 0.852634376586922 and parameters: {'iterations': 1500, 'learning_rate': 0.2775338323862574, 'random_strength': 6, 'bagging_temperature': 4, 'max_bin': 4, 'grow_policy': 'Lossguide', 'min_data_in_leaf': 9, 'max_depth': 9, 'l2_leaf_reg': 0.0010943835695463693, 'one_hot_max_size': 500, 'auto_class_weights': 'SqrtBalanced'}. Best is trial 1 with value: 0.8661515849000121.\u001b[0m\n"
     ]
    },
    {
     "name": "stdout",
     "output_type": "stream",
     "text": [
      "Stopped by overfitting detector  (10 iterations wait)\n"
     ]
    },
    {
     "name": "stderr",
     "output_type": "stream",
     "text": [
      "\u001b[32m[I 2021-04-07 22:40:57,535]\u001b[0m Trial 9 finished with value: 0.8610753121404245 and parameters: {'iterations': 1000, 'learning_rate': 0.16527427195333977, 'random_strength': 1, 'bagging_temperature': 9, 'max_bin': 8, 'grow_policy': 'SymmetricTree', 'min_data_in_leaf': 2, 'max_depth': 5, 'l2_leaf_reg': 5.547808519611033e-05, 'one_hot_max_size': 100, 'auto_class_weights': 'SqrtBalanced'}. Best is trial 1 with value: 0.8661515849000121.\u001b[0m\n"
     ]
    },
    {
     "name": "stdout",
     "output_type": "stream",
     "text": [
      "Stopped by overfitting detector  (10 iterations wait)\n"
     ]
    },
    {
     "name": "stderr",
     "output_type": "stream",
     "text": [
      "\u001b[32m[I 2021-04-07 22:41:27,022]\u001b[0m Trial 10 finished with value: 0.8658453957804421 and parameters: {'iterations': 1200, 'learning_rate': 0.11280639560744715, 'random_strength': 10, 'bagging_temperature': 1, 'max_bin': 5, 'grow_policy': 'Depthwise', 'min_data_in_leaf': 5, 'max_depth': 8, 'l2_leaf_reg': 3.212210040719702, 'one_hot_max_size': 1024, 'auto_class_weights': 'SqrtBalanced'}. Best is trial 1 with value: 0.8661515849000121.\u001b[0m\n"
     ]
    },
    {
     "name": "stdout",
     "output_type": "stream",
     "text": [
      "Stopped by overfitting detector  (10 iterations wait)\n"
     ]
    },
    {
     "name": "stderr",
     "output_type": "stream",
     "text": [
      "\u001b[32m[I 2021-04-07 22:43:20,132]\u001b[0m Trial 11 finished with value: 0.8707177746116492 and parameters: {'iterations': 2000, 'learning_rate': 0.01981954863467386, 'random_strength': 1, 'bagging_temperature': 8, 'max_bin': 10, 'grow_policy': 'Lossguide', 'min_data_in_leaf': 5, 'max_depth': 7, 'l2_leaf_reg': 78.38138081858969, 'one_hot_max_size': 100, 'auto_class_weights': 'SqrtBalanced'}. Best is trial 11 with value: 0.8707177746116492.\u001b[0m\n"
     ]
    },
    {
     "name": "stdout",
     "output_type": "stream",
     "text": [
      "Stopped by overfitting detector  (10 iterations wait)\n"
     ]
    },
    {
     "name": "stderr",
     "output_type": "stream",
     "text": [
      "\u001b[32m[I 2021-04-07 22:43:46,435]\u001b[0m Trial 12 finished with value: 0.8660174114474406 and parameters: {'iterations': 2000, 'learning_rate': 0.11011181943928247, 'random_strength': 3, 'bagging_temperature': 6, 'max_bin': 5, 'grow_policy': 'Lossguide', 'min_data_in_leaf': 5, 'max_depth': 7, 'l2_leaf_reg': 0.19478780443657354, 'one_hot_max_size': 500, 'auto_class_weights': 'SqrtBalanced'}. Best is trial 11 with value: 0.8707177746116492.\u001b[0m\n"
     ]
    },
    {
     "name": "stdout",
     "output_type": "stream",
     "text": [
      "Stopped by overfitting detector  (10 iterations wait)\n"
     ]
    },
    {
     "name": "stderr",
     "output_type": "stream",
     "text": [
      "\u001b[32m[I 2021-04-07 22:49:50,610]\u001b[0m Trial 13 finished with value: 0.8692368704287926 and parameters: {'iterations': 2000, 'learning_rate': 0.005245169519152451, 'random_strength': 2, 'bagging_temperature': 10, 'max_bin': 10, 'grow_policy': 'Lossguide', 'min_data_in_leaf': 1, 'max_depth': 8, 'l2_leaf_reg': 0.2554425816669215, 'one_hot_max_size': 10, 'auto_class_weights': 'SqrtBalanced'}. Best is trial 11 with value: 0.8707177746116492.\u001b[0m\n",
      "\u001b[32m[I 2021-04-07 22:55:59,817]\u001b[0m Trial 14 finished with value: 0.8589175416984947 and parameters: {'iterations': 2000, 'learning_rate': 0.0012570631773644297, 'random_strength': 2, 'bagging_temperature': 10, 'max_bin': 10, 'grow_policy': 'Lossguide', 'min_data_in_leaf': 1, 'max_depth': 9, 'l2_leaf_reg': 59.44042958669503, 'one_hot_max_size': 10, 'auto_class_weights': 'SqrtBalanced'}. Best is trial 11 with value: 0.8707177746116492.\u001b[0m\n"
     ]
    },
    {
     "name": "stdout",
     "output_type": "stream",
     "text": [
      "Stopped by overfitting detector  (10 iterations wait)\n"
     ]
    },
    {
     "name": "stderr",
     "output_type": "stream",
     "text": [
      "\u001b[32m[I 2021-04-07 22:59:10,833]\u001b[0m Trial 15 finished with value: 0.8654439920466578 and parameters: {'iterations': 5000, 'learning_rate': 0.005965894062374641, 'random_strength': 2, 'bagging_temperature': 9, 'max_bin': 10, 'grow_policy': 'Depthwise', 'min_data_in_leaf': 1, 'max_depth': 8, 'l2_leaf_reg': 0.02635111535001674, 'one_hot_max_size': 10, 'auto_class_weights': 'SqrtBalanced'}. Best is trial 11 with value: 0.8707177746116492.\u001b[0m\n",
      "\u001b[32m[I 2021-04-07 23:00:27,360]\u001b[0m Trial 16 finished with value: 0.8683362480741573 and parameters: {'iterations': 2000, 'learning_rate': 0.07038569751421626, 'random_strength': 1, 'bagging_temperature': 10, 'max_bin': 10, 'grow_policy': 'SymmetricTree', 'min_data_in_leaf': 7, 'max_depth': 10, 'l2_leaf_reg': 94.7424627110417, 'one_hot_max_size': 10, 'auto_class_weights': 'SqrtBalanced'}. Best is trial 11 with value: 0.8707177746116492.\u001b[0m\n"
     ]
    },
    {
     "name": "stdout",
     "output_type": "stream",
     "text": [
      "Stopped by overfitting detector  (10 iterations wait)\n"
     ]
    },
    {
     "name": "stderr",
     "output_type": "stream",
     "text": [
      "\u001b[32m[I 2021-04-07 23:00:37,222]\u001b[0m Trial 17 finished with value: 0.8560306713537132 and parameters: {'iterations': 3000, 'learning_rate': 0.26987200266265216, 'random_strength': 3, 'bagging_temperature': 8, 'max_bin': 10, 'grow_policy': 'Lossguide', 'min_data_in_leaf': 3, 'max_depth': 7, 'l2_leaf_reg': 0.010165738633200461, 'one_hot_max_size': 100, 'auto_class_weights': 'Balanced'}. Best is trial 11 with value: 0.8707177746116492.\u001b[0m\n"
     ]
    },
    {
     "name": "stdout",
     "output_type": "stream",
     "text": [
      "Stopped by overfitting detector  (10 iterations wait)\n"
     ]
    },
    {
     "name": "stderr",
     "output_type": "stream",
     "text": [
      "\u001b[32m[I 2021-04-07 23:01:22,630]\u001b[0m Trial 18 finished with value: 0.8641010549136038 and parameters: {'iterations': 200, 'learning_rate': 0.03163074156241095, 'random_strength': 3, 'bagging_temperature': 9, 'max_bin': 10, 'grow_policy': 'Lossguide', 'min_data_in_leaf': 1, 'max_depth': 8, 'l2_leaf_reg': 4.702623628134756, 'one_hot_max_size': 1024, 'auto_class_weights': 'SqrtBalanced'}. Best is trial 11 with value: 0.8707177746116492.\u001b[0m\n",
      "\u001b[32m[I 2021-04-07 23:02:04,494]\u001b[0m Trial 19 finished with value: 0.8665550091858591 and parameters: {'iterations': 2000, 'learning_rate': 0.07133190045789511, 'random_strength': 2, 'bagging_temperature': 0, 'max_bin': 8, 'grow_policy': 'Lossguide', 'min_data_in_leaf': 10, 'max_depth': 9, 'l2_leaf_reg': 0.12220253571616772, 'one_hot_max_size': 5, 'auto_class_weights': 'SqrtBalanced'}. Best is trial 11 with value: 0.8707177746116492.\u001b[0m\n"
     ]
    },
    {
     "name": "stdout",
     "output_type": "stream",
     "text": [
      "Stopped by overfitting detector  (10 iterations wait)\n"
     ]
    },
    {
     "name": "stderr",
     "output_type": "stream",
     "text": [
      "\u001b[32m[I 2021-04-07 23:07:58,752]\u001b[0m Trial 20 finished with value: 0.863138674425203 and parameters: {'iterations': 2000, 'learning_rate': 0.002684083901463956, 'random_strength': 5, 'bagging_temperature': 8, 'max_bin': 4, 'grow_policy': 'Depthwise', 'min_data_in_leaf': 2, 'max_depth': 6, 'l2_leaf_reg': 5.990213697132072, 'one_hot_max_size': 100, 'auto_class_weights': 'Balanced'}. Best is trial 11 with value: 0.8707177746116492.\u001b[0m\n",
      "\u001b[32m[I 2021-04-07 23:09:03,031]\u001b[0m Trial 21 finished with value: 0.8698982042087969 and parameters: {'iterations': 2000, 'learning_rate': 0.06853671945128265, 'random_strength': 1, 'bagging_temperature': 10, 'max_bin': 10, 'grow_policy': 'SymmetricTree', 'min_data_in_leaf': 8, 'max_depth': 10, 'l2_leaf_reg': 60.30641967454954, 'one_hot_max_size': 10, 'auto_class_weights': 'SqrtBalanced'}. Best is trial 11 with value: 0.8707177746116492.\u001b[0m\n"
     ]
    },
    {
     "name": "stdout",
     "output_type": "stream",
     "text": [
      "Stopped by overfitting detector  (10 iterations wait)\n"
     ]
    },
    {
     "name": "stderr",
     "output_type": "stream",
     "text": [
      "\u001b[32m[I 2021-04-07 23:09:47,396]\u001b[0m Trial 22 finished with value: 0.8650243448616667 and parameters: {'iterations': 2000, 'learning_rate': 0.05177305737720475, 'random_strength': 1, 'bagging_temperature': 10, 'max_bin': 10, 'grow_policy': 'SymmetricTree', 'min_data_in_leaf': 8, 'max_depth': 10, 'l2_leaf_reg': 0.8303872031381462, 'one_hot_max_size': 10, 'auto_class_weights': 'SqrtBalanced'}. Best is trial 11 with value: 0.8707177746116492.\u001b[0m\n"
     ]
    },
    {
     "name": "stdout",
     "output_type": "stream",
     "text": [
      "Stopped by overfitting detector  (10 iterations wait)\n"
     ]
    },
    {
     "name": "stderr",
     "output_type": "stream",
     "text": [
      "\u001b[32m[I 2021-04-07 23:11:38,936]\u001b[0m Trial 23 finished with value: 0.8698190365816535 and parameters: {'iterations': 2000, 'learning_rate': 0.02455228272459276, 'random_strength': 2, 'bagging_temperature': 9, 'max_bin': 10, 'grow_policy': 'SymmetricTree', 'min_data_in_leaf': 7, 'max_depth': 8, 'l2_leaf_reg': 80.3741668819409, 'one_hot_max_size': 10, 'auto_class_weights': 'SqrtBalanced'}. Best is trial 11 with value: 0.8707177746116492.\u001b[0m\n"
     ]
    },
    {
     "name": "stdout",
     "output_type": "stream",
     "text": [
      "Stopped by overfitting detector  (10 iterations wait)\n"
     ]
    },
    {
     "name": "stderr",
     "output_type": "stream",
     "text": [
      "\u001b[32m[I 2021-04-07 23:12:22,853]\u001b[0m Trial 24 finished with value: 0.869075717100228 and parameters: {'iterations': 2000, 'learning_rate': 0.0874622861808137, 'random_strength': 4, 'bagging_temperature': 7, 'max_bin': 10, 'grow_policy': 'SymmetricTree', 'min_data_in_leaf': 7, 'max_depth': 9, 'l2_leaf_reg': 83.7712703435238, 'one_hot_max_size': 10, 'auto_class_weights': 'SqrtBalanced'}. Best is trial 11 with value: 0.8707177746116492.\u001b[0m\n"
     ]
    },
    {
     "name": "stdout",
     "output_type": "stream",
     "text": [
      "Stopped by overfitting detector  (10 iterations wait)\n"
     ]
    },
    {
     "name": "stderr",
     "output_type": "stream",
     "text": [
      "\u001b[32m[I 2021-04-07 23:12:38,665]\u001b[0m Trial 25 finished with value: 0.8675870756870838 and parameters: {'iterations': 5000, 'learning_rate': 0.14239138314365457, 'random_strength': 1, 'bagging_temperature': 9, 'max_bin': 10, 'grow_policy': 'SymmetricTree', 'min_data_in_leaf': 6, 'max_depth': 7, 'l2_leaf_reg': 17.933734301020408, 'one_hot_max_size': 10, 'auto_class_weights': 'SqrtBalanced'}. Best is trial 11 with value: 0.8707177746116492.\u001b[0m\n"
     ]
    },
    {
     "name": "stdout",
     "output_type": "stream",
     "text": [
      "Stopped by overfitting detector  (10 iterations wait)\n"
     ]
    },
    {
     "name": "stderr",
     "output_type": "stream",
     "text": [
      "\u001b[32m[I 2021-04-07 23:15:21,347]\u001b[0m Trial 26 finished with value: 0.8700577992766568 and parameters: {'iterations': 3000, 'learning_rate': 0.03007462271004389, 'random_strength': 2, 'bagging_temperature': 8, 'max_bin': 10, 'grow_policy': 'SymmetricTree', 'min_data_in_leaf': 8, 'max_depth': 10, 'l2_leaf_reg': 96.07835704457133, 'one_hot_max_size': 10, 'auto_class_weights': 'SqrtBalanced'}. Best is trial 11 with value: 0.8707177746116492.\u001b[0m\n"
     ]
    },
    {
     "name": "stdout",
     "output_type": "stream",
     "text": [
      "Stopped by overfitting detector  (10 iterations wait)\n"
     ]
    },
    {
     "name": "stderr",
     "output_type": "stream",
     "text": [
      "\u001b[32m[I 2021-04-07 23:16:58,837]\u001b[0m Trial 27 finished with value: 0.8666956429977081 and parameters: {'iterations': 3000, 'learning_rate': 0.0510925287232617, 'random_strength': 4, 'bagging_temperature': 6, 'max_bin': 30, 'grow_policy': 'SymmetricTree', 'min_data_in_leaf': 9, 'max_depth': 2, 'l2_leaf_reg': 2.0700996524527304, 'one_hot_max_size': 100, 'auto_class_weights': 'SqrtBalanced'}. Best is trial 11 with value: 0.8707177746116492.\u001b[0m\n"
     ]
    },
    {
     "name": "stdout",
     "output_type": "stream",
     "text": [
      "Stopped by overfitting detector  (10 iterations wait)\n"
     ]
    },
    {
     "name": "stderr",
     "output_type": "stream",
     "text": [
      "\u001b[32m[I 2021-04-07 23:17:49,476]\u001b[0m Trial 28 finished with value: 0.8675219604872335 and parameters: {'iterations': 3000, 'learning_rate': 0.08652247042703512, 'random_strength': 3, 'bagging_temperature': 8, 'max_bin': 8, 'grow_policy': 'SymmetricTree', 'min_data_in_leaf': 9, 'max_depth': 10, 'l2_leaf_reg': 15.698542577382348, 'one_hot_max_size': 1024, 'auto_class_weights': 'SqrtBalanced'}. Best is trial 11 with value: 0.8707177746116492.\u001b[0m\n"
     ]
    },
    {
     "name": "stdout",
     "output_type": "stream",
     "text": [
      "Stopped by overfitting detector  (10 iterations wait)\n"
     ]
    },
    {
     "name": "stderr",
     "output_type": "stream",
     "text": [
      "\u001b[32m[I 2021-04-07 23:21:00,724]\u001b[0m Trial 29 finished with value: 0.8684601514410792 and parameters: {'iterations': 4000, 'learning_rate': 0.02049218225214315, 'random_strength': 1, 'bagging_temperature': 5, 'max_bin': 10, 'grow_policy': 'SymmetricTree', 'min_data_in_leaf': 8, 'max_depth': 3, 'l2_leaf_reg': 21.836587300765807, 'one_hot_max_size': 12, 'auto_class_weights': 'SqrtBalanced'}. Best is trial 11 with value: 0.8707177746116492.\u001b[0m\n"
     ]
    },
    {
     "name": "stdout",
     "output_type": "stream",
     "text": [
      "Stopped by overfitting detector  (10 iterations wait)\n"
     ]
    },
    {
     "name": "stderr",
     "output_type": "stream",
     "text": [
      "\u001b[32m[I 2021-04-07 23:21:10,785]\u001b[0m Trial 30 finished with value: 0.8487845654691452 and parameters: {'iterations': 3000, 'learning_rate': 0.13955585842146848, 'random_strength': 1, 'bagging_temperature': 8, 'max_bin': 20, 'grow_policy': 'SymmetricTree', 'min_data_in_leaf': 4, 'max_depth': 10, 'l2_leaf_reg': 0.04691486822115045, 'one_hot_max_size': 5, 'auto_class_weights': 'SqrtBalanced'}. Best is trial 11 with value: 0.8707177746116492.\u001b[0m\n"
     ]
    },
    {
     "name": "stdout",
     "output_type": "stream",
     "text": [
      "Stopped by overfitting detector  (10 iterations wait)\n"
     ]
    },
    {
     "name": "stderr",
     "output_type": "stream",
     "text": [
      "\u001b[32m[I 2021-04-07 23:21:53,688]\u001b[0m Trial 31 finished with value: 0.863963699262688 and parameters: {'iterations': 200, 'learning_rate': 0.020458737773142104, 'random_strength': 2, 'bagging_temperature': 9, 'max_bin': 10, 'grow_policy': 'SymmetricTree', 'min_data_in_leaf': 6, 'max_depth': 9, 'l2_leaf_reg': 78.11005021356631, 'one_hot_max_size': 10, 'auto_class_weights': 'SqrtBalanced'}. Best is trial 11 with value: 0.8707177746116492.\u001b[0m\n",
      "\u001b[32m[I 2021-04-07 23:23:08,406]\u001b[0m Trial 32 finished with value: 0.8686498177263152 and parameters: {'iterations': 500, 'learning_rate': 0.0244535896832416, 'random_strength': 2, 'bagging_temperature': 7, 'max_bin': 10, 'grow_policy': 'SymmetricTree', 'min_data_in_leaf': 7, 'max_depth': 6, 'l2_leaf_reg': 95.24145158795909, 'one_hot_max_size': 10, 'auto_class_weights': 'SqrtBalanced'}. Best is trial 11 with value: 0.8707177746116492.\u001b[0m\n",
      "\u001b[32m[I 2021-04-07 23:23:56,851]\u001b[0m Trial 33 finished with value: 0.8690128315510919 and parameters: {'iterations': 1500, 'learning_rate': 0.05633757269321638, 'random_strength': 3, 'bagging_temperature': 8, 'max_bin': 10, 'grow_policy': 'SymmetricTree', 'min_data_in_leaf': 8, 'max_depth': 7, 'l2_leaf_reg': 16.636024380221407, 'one_hot_max_size': 10, 'auto_class_weights': 'SqrtBalanced'}. Best is trial 11 with value: 0.8707177746116492.\u001b[0m\n"
     ]
    },
    {
     "name": "stdout",
     "output_type": "stream",
     "text": [
      "Stopped by overfitting detector  (10 iterations wait)\n"
     ]
    },
    {
     "name": "stderr",
     "output_type": "stream",
     "text": [
      "\u001b[32m[I 2021-04-07 23:24:19,006]\u001b[0m Trial 34 finished with value: 0.8634902899367006 and parameters: {'iterations': 100, 'learning_rate': 0.08486955794981052, 'random_strength': 1, 'bagging_temperature': 9, 'max_bin': 10, 'grow_policy': 'SymmetricTree', 'min_data_in_leaf': 4, 'max_depth': 9, 'l2_leaf_reg': 0.9712965396123249, 'one_hot_max_size': 10, 'auto_class_weights': 'SqrtBalanced'}. Best is trial 11 with value: 0.8707177746116492.\u001b[0m\n"
     ]
    },
    {
     "name": "stdout",
     "output_type": "stream",
     "text": [
      "Stopped by overfitting detector  (10 iterations wait)\n"
     ]
    },
    {
     "name": "stderr",
     "output_type": "stream",
     "text": [
      "\u001b[32m[I 2021-04-07 23:25:13,115]\u001b[0m Trial 35 finished with value: 0.8683777432489865 and parameters: {'iterations': 300, 'learning_rate': 0.034317783131161274, 'random_strength': 2, 'bagging_temperature': 7, 'max_bin': 6, 'grow_policy': 'SymmetricTree', 'min_data_in_leaf': 7, 'max_depth': 8, 'l2_leaf_reg': 32.51006335944713, 'one_hot_max_size': 100, 'auto_class_weights': 'SqrtBalanced'}. Best is trial 11 with value: 0.8707177746116492.\u001b[0m\n",
      "\u001b[32m[I 2021-04-07 23:26:07,165]\u001b[0m Trial 36 finished with value: 0.8680443313880088 and parameters: {'iterations': 1200, 'learning_rate': 0.06474802170010949, 'random_strength': 1, 'bagging_temperature': 8, 'max_bin': 4, 'grow_policy': 'SymmetricTree', 'min_data_in_leaf': 6, 'max_depth': 10, 'l2_leaf_reg': 7.409887370787184, 'one_hot_max_size': 10, 'auto_class_weights': 'SqrtBalanced'}. Best is trial 11 with value: 0.8707177746116492.\u001b[0m\n"
     ]
    },
    {
     "name": "stdout",
     "output_type": "stream",
     "text": [
      "Stopped by overfitting detector  (10 iterations wait)\n"
     ]
    },
    {
     "name": "stderr",
     "output_type": "stream",
     "text": [
      "\u001b[32m[I 2021-04-07 23:28:29,883]\u001b[0m Trial 37 finished with value: 0.8694052465956791 and parameters: {'iterations': 2000, 'learning_rate': 0.01993785122775789, 'random_strength': 7, 'bagging_temperature': 5, 'max_bin': 10, 'grow_policy': 'SymmetricTree', 'min_data_in_leaf': 5, 'max_depth': 7, 'l2_leaf_reg': 90.64040382757709, 'one_hot_max_size': 5, 'auto_class_weights': 'Balanced'}. Best is trial 11 with value: 0.8707177746116492.\u001b[0m\n"
     ]
    },
    {
     "name": "stdout",
     "output_type": "stream",
     "text": [
      "Stopped by overfitting detector  (10 iterations wait)\n"
     ]
    },
    {
     "name": "stderr",
     "output_type": "stream",
     "text": [
      "\u001b[32m[I 2021-04-07 23:28:49,908]\u001b[0m Trial 38 finished with value: 0.859866292946496 and parameters: {'iterations': 500, 'learning_rate': 0.12708490722567845, 'random_strength': 4, 'bagging_temperature': 6, 'max_bin': 6, 'grow_policy': 'Depthwise', 'min_data_in_leaf': 9, 'max_depth': 6, 'l2_leaf_reg': 0.004995767033688599, 'one_hot_max_size': 100, 'auto_class_weights': 'SqrtBalanced'}. Best is trial 11 with value: 0.8707177746116492.\u001b[0m\n"
     ]
    },
    {
     "name": "stdout",
     "output_type": "stream",
     "text": [
      "Stopped by overfitting detector  (10 iterations wait)\n"
     ]
    },
    {
     "name": "stderr",
     "output_type": "stream",
     "text": [
      "\u001b[32m[I 2021-04-07 23:29:13,136]\u001b[0m Trial 39 finished with value: 0.8545279345215718 and parameters: {'iterations': 4000, 'learning_rate': 0.040061077282591395, 'random_strength': 3, 'bagging_temperature': 7, 'max_bin': 30, 'grow_policy': 'SymmetricTree', 'min_data_in_leaf': 8, 'max_depth': 8, 'l2_leaf_reg': 1.0399183239165113e-07, 'one_hot_max_size': 12, 'auto_class_weights': 'SqrtBalanced'}. Best is trial 11 with value: 0.8707177746116492.\u001b[0m\n"
     ]
    },
    {
     "name": "stdout",
     "output_type": "stream",
     "text": [
      "Stopped by overfitting detector  (10 iterations wait)\n"
     ]
    },
    {
     "name": "stderr",
     "output_type": "stream",
     "text": [
      "\u001b[32m[I 2021-04-07 23:29:28,630]\u001b[0m Trial 40 finished with value: 0.8588792236163825 and parameters: {'iterations': 300, 'learning_rate': 0.1634566124396803, 'random_strength': 2, 'bagging_temperature': 10, 'max_bin': 20, 'grow_policy': 'SymmetricTree', 'min_data_in_leaf': 10, 'max_depth': 9, 'l2_leaf_reg': 1.0300040671020267, 'one_hot_max_size': 10, 'auto_class_weights': 'SqrtBalanced'}. Best is trial 11 with value: 0.8707177746116492.\u001b[0m\n"
     ]
    },
    {
     "name": "stdout",
     "output_type": "stream",
     "text": [
      "Stopped by overfitting detector  (10 iterations wait)\n"
     ]
    },
    {
     "name": "stderr",
     "output_type": "stream",
     "text": [
      "\u001b[32m[I 2021-04-07 23:32:03,658]\u001b[0m Trial 41 finished with value: 0.8696511540361117 and parameters: {'iterations': 2000, 'learning_rate': 0.018203961046851007, 'random_strength': 7, 'bagging_temperature': 5, 'max_bin': 10, 'grow_policy': 'SymmetricTree', 'min_data_in_leaf': 5, 'max_depth': 7, 'l2_leaf_reg': 82.67896536400292, 'one_hot_max_size': 5, 'auto_class_weights': 'Balanced'}. Best is trial 11 with value: 0.8707177746116492.\u001b[0m\n"
     ]
    },
    {
     "name": "stdout",
     "output_type": "stream",
     "text": [
      "Stopped by overfitting detector  (10 iterations wait)\n"
     ]
    },
    {
     "name": "stderr",
     "output_type": "stream",
     "text": [
      "\u001b[32m[I 2021-04-07 23:37:29,928]\u001b[0m Trial 42 finished with value: 0.86820397878855 and parameters: {'iterations': 2000, 'learning_rate': 0.008363581311288481, 'random_strength': 7, 'bagging_temperature': 2, 'max_bin': 10, 'grow_policy': 'SymmetricTree', 'min_data_in_leaf': 5, 'max_depth': 5, 'l2_leaf_reg': 33.25939019472065, 'one_hot_max_size': 5, 'auto_class_weights': 'Balanced'}. Best is trial 11 with value: 0.8707177746116492.\u001b[0m\n",
      "\u001b[32m[I 2021-04-07 23:38:36,559]\u001b[0m Trial 43 finished with value: 0.868196145711711 and parameters: {'iterations': 2000, 'learning_rate': 0.03486570379120119, 'random_strength': 7, 'bagging_temperature': 4, 'max_bin': 10, 'grow_policy': 'SymmetricTree', 'min_data_in_leaf': 6, 'max_depth': 7, 'l2_leaf_reg': 8.272549786010309, 'one_hot_max_size': 5, 'auto_class_weights': 'Balanced'}. Best is trial 11 with value: 0.8707177746116492.\u001b[0m\n"
     ]
    },
    {
     "name": "stdout",
     "output_type": "stream",
     "text": [
      "Stopped by overfitting detector  (10 iterations wait)\n"
     ]
    },
    {
     "name": "stderr",
     "output_type": "stream",
     "text": [
      "\u001b[32m[I 2021-04-07 23:39:05,828]\u001b[0m Trial 44 finished with value: 0.8670916470663176 and parameters: {'iterations': 2000, 'learning_rate': 0.09985942096325906, 'random_strength': 8, 'bagging_temperature': 9, 'max_bin': 10, 'grow_policy': 'SymmetricTree', 'min_data_in_leaf': 4, 'max_depth': 6, 'l2_leaf_reg': 2.1967005623918605, 'one_hot_max_size': 5, 'auto_class_weights': 'Balanced'}. Best is trial 11 with value: 0.8707177746116492.\u001b[0m\n"
     ]
    },
    {
     "name": "stdout",
     "output_type": "stream",
     "text": [
      "Stopped by overfitting detector  (10 iterations wait)\n"
     ]
    },
    {
     "name": "stderr",
     "output_type": "stream",
     "text": [
      "\u001b[32m[I 2021-04-07 23:39:23,027]\u001b[0m Trial 45 finished with value: 0.8565560530081836 and parameters: {'iterations': 100, 'learning_rate': 0.058851052012146673, 'random_strength': 6, 'bagging_temperature': 8, 'max_bin': 5, 'grow_policy': 'Lossguide', 'min_data_in_leaf': 7, 'max_depth': 8, 'l2_leaf_reg': 6.301367635010785e-05, 'one_hot_max_size': 500, 'auto_class_weights': 'Balanced'}. Best is trial 11 with value: 0.8707177746116492.\u001b[0m\n",
      "\u001b[32m[I 2021-04-07 23:42:07,955]\u001b[0m Trial 46 finished with value: 0.8693237504543081 and parameters: {'iterations': 2000, 'learning_rate': 0.014042525479080605, 'random_strength': 8, 'bagging_temperature': 2, 'max_bin': 10, 'grow_policy': 'SymmetricTree', 'min_data_in_leaf': 6, 'max_depth': 7, 'l2_leaf_reg': 32.48233574930904, 'one_hot_max_size': 100, 'auto_class_weights': 'Balanced'}. Best is trial 11 with value: 0.8707177746116492.\u001b[0m\n"
     ]
    },
    {
     "name": "stdout",
     "output_type": "stream",
     "text": [
      "Stopped by overfitting detector  (10 iterations wait)\n"
     ]
    },
    {
     "name": "stderr",
     "output_type": "stream",
     "text": [
      "\u001b[32m[I 2021-04-07 23:42:22,781]\u001b[0m Trial 47 finished with value: 0.8621982563734569 and parameters: {'iterations': 1000, 'learning_rate': 0.19420213641694983, 'random_strength': 9, 'bagging_temperature': 6, 'max_bin': 10, 'grow_policy': 'Lossguide', 'min_data_in_leaf': 5, 'max_depth': 8, 'l2_leaf_reg': 0.3754445308132189, 'one_hot_max_size': 10, 'auto_class_weights': 'Balanced'}. Best is trial 11 with value: 0.8707177746116492.\u001b[0m\n"
     ]
    },
    {
     "name": "stdout",
     "output_type": "stream",
     "text": [
      "Stopped by overfitting detector  (10 iterations wait)\n"
     ]
    },
    {
     "name": "stderr",
     "output_type": "stream",
     "text": [
      "\u001b[32m[I 2021-04-07 23:42:38,586]\u001b[0m Trial 48 finished with value: 0.8672922791949803 and parameters: {'iterations': 3000, 'learning_rate': 0.25406816515011066, 'random_strength': 7, 'bagging_temperature': 10, 'max_bin': 5, 'grow_policy': 'SymmetricTree', 'min_data_in_leaf': 7, 'max_depth': 6, 'l2_leaf_reg': 83.62197910519791, 'one_hot_max_size': 500, 'auto_class_weights': 'SqrtBalanced'}. Best is trial 11 with value: 0.8707177746116492.\u001b[0m\n"
     ]
    },
    {
     "name": "stdout",
     "output_type": "stream",
     "text": [
      "Stopped by overfitting detector  (10 iterations wait)\n"
     ]
    },
    {
     "name": "stderr",
     "output_type": "stream",
     "text": [
      "\u001b[32m[I 2021-04-07 23:43:24,139]\u001b[0m Trial 49 finished with value: 0.8683587513592108 and parameters: {'iterations': 2000, 'learning_rate': 0.04294018055805611, 'random_strength': 5, 'bagging_temperature': 3, 'max_bin': 10, 'grow_policy': 'Depthwise', 'min_data_in_leaf': 9, 'max_depth': 5, 'l2_leaf_reg': 3.116940448380019, 'one_hot_max_size': 1024, 'auto_class_weights': 'SqrtBalanced'}. Best is trial 11 with value: 0.8707177746116492.\u001b[0m\n"
     ]
    },
    {
     "name": "stdout",
     "output_type": "stream",
     "text": [
      "Stopped by overfitting detector  (10 iterations wait)\n"
     ]
    }
   ],
   "source": [
    "# Tree-structure Parzen Estimator (TPE) Sampler API: https://optuna.readthedocs.io/en/stable/reference/samplers.html\n",
    "# Creates reproducible results with sampler seed\n",
    "\n",
    "sampler = optuna.samplers.TPESampler(seed=68)  \n",
    "study = optuna.create_study(direction=\"maximize\", sampler=sampler)\n",
    "study.optimize(objective, n_trials=50)"
   ]
  },
  {
   "cell_type": "code",
   "execution_count": 140,
   "metadata": {
    "papermill": {
     "duration": 0.071872,
     "end_time": "2021-04-05T10:52:52.521969",
     "exception": false,
     "start_time": "2021-04-05T10:52:52.450097",
     "status": "completed"
    },
    "tags": []
   },
   "outputs": [
    {
     "name": "stdout",
     "output_type": "stream",
     "text": [
      "Number of finished trials: 50\n",
      "Best trial:\n",
      "  Value: 0.8707177746116492\n",
      "  Params: \n",
      "    iterations=2000,\n",
      "    learning_rate=0.01981954863467386,\n",
      "    random_strength=1,\n",
      "    bagging_temperature=8,\n",
      "    max_bin=10,\n",
      "    grow_policy=Lossguide,\n",
      "    min_data_in_leaf=5,\n",
      "    max_depth=7,\n",
      "    l2_leaf_reg=78.38138081858969,\n",
      "    one_hot_max_size=100,\n",
      "    auto_class_weights=SqrtBalanced,\n"
     ]
    }
   ],
   "source": [
    "print(\"Number of finished trials: {}\".format(len(study.trials)))\n",
    "print(\"Best trial:\")\n",
    "trial = study.best_trial\n",
    "print(\"  Value: {}\".format(trial.value))\n",
    "print(\"  Params: \")\n",
    "for key, value in trial.params.items():\n",
    "    print(\"    {}={},\".format(key, value))"
   ]
  },
  {
   "cell_type": "code",
   "execution_count": 141,
   "metadata": {
    "papermill": {
     "duration": 0.06416,
     "end_time": "2021-04-05T10:52:52.620626",
     "exception": false,
     "start_time": "2021-04-05T10:52:52.556466",
     "status": "completed"
    },
    "tags": []
   },
   "outputs": [],
   "source": [
    "# CatBoostClassifier API Reference: https://catboost.ai/docs/concepts/python-reference_catboostclassifier.html\n",
    "\n",
    "final_model = CatBoostClassifier(verbose=False,  cat_features=cat_features, \n",
    "                          **trial.params)"
   ]
  },
  {
   "cell_type": "code",
   "execution_count": 142,
   "metadata": {
    "papermill": {
     "duration": 0.06277,
     "end_time": "2021-04-05T10:52:52.718880",
     "exception": false,
     "start_time": "2021-04-05T10:52:52.656110",
     "status": "completed"
    },
    "tags": []
   },
   "outputs": [],
   "source": [
    "final_model.fit(X_train, y_train)\n",
    "predictions_h1 = final_model.predict_proba(test_df)[:,1]\n",
    "predictions_h1_train = final_model.predict_proba(X_test)[:,1]"
   ]
  },
  {
   "cell_type": "code",
   "execution_count": 143,
   "metadata": {
    "papermill": {
     "duration": 0.064914,
     "end_time": "2021-04-05T10:52:52.820870",
     "exception": false,
     "start_time": "2021-04-05T10:52:52.755956",
     "status": "completed"
    },
    "tags": []
   },
   "outputs": [
    {
     "data": {
      "text/plain": [
       "0.8671530529635235"
      ]
     },
     "execution_count": 143,
     "metadata": {},
     "output_type": "execute_result"
    }
   ],
   "source": [
    "roc_auc_score(y_test, predictions_h1_train)"
   ]
  },
  {
   "cell_type": "code",
   "execution_count": 144,
   "metadata": {
    "papermill": {
     "duration": 0.062918,
     "end_time": "2021-04-05T10:52:52.921421",
     "exception": false,
     "start_time": "2021-04-05T10:52:52.858503",
     "status": "completed"
    },
    "tags": []
   },
   "outputs": [
    {
     "data": {
      "text/plain": [
       "array([0.16592446, 0.04416085, 0.22726992, ..., 0.23541126, 0.02632169,\n",
       "       0.72728195])"
      ]
     },
     "execution_count": 144,
     "metadata": {},
     "output_type": "execute_result"
    }
   ],
   "source": [
    "predictions_h1"
   ]
  },
  {
   "cell_type": "code",
   "execution_count": 145,
   "metadata": {
    "papermill": {
     "duration": 0.081306,
     "end_time": "2021-04-05T10:52:53.046514",
     "exception": false,
     "start_time": "2021-04-05T10:52:52.965208",
     "status": "completed"
    },
    "tags": []
   },
   "outputs": [],
   "source": [
    "seasonal_df = df\n",
    "seasonal_df=seasonal_df.dropna(axis=1)\n",
    "y = seasonal_df['seasonal_vaccine']\n",
    "X = seasonal_df.drop(columns=['h1n1_vaccine','seasonal_vaccine'])\n",
    "X_train, X_test, y_train, y_test = train_test_split(X, y, test_size=0.3, random_state=42)"
   ]
  },
  {
   "cell_type": "code",
   "execution_count": 146,
   "metadata": {
    "papermill": {
     "duration": 0.07208,
     "end_time": "2021-04-05T10:52:53.165197",
     "exception": false,
     "start_time": "2021-04-05T10:52:53.093117",
     "status": "completed"
    },
    "tags": []
   },
   "outputs": [
    {
     "data": {
      "text/plain": [
       "array([ 23,  24,  25,  26,  27,  28,  29,  30,  31,  32,  33,  34,  35,\n",
       "        36,  37,  38,  39,  40,  41,  42,  43,  44,  45,  46,  47,  48,\n",
       "        49,  50,  51,  52,  53,  54,  55,  56,  57,  58,  59,  60,  61,\n",
       "        62,  63,  64,  65,  66,  67,  68,  69,  70,  71,  72,  73,  74,\n",
       "        75,  76,  77,  78,  79,  80,  81,  82,  83,  84,  85,  86,  87,\n",
       "        88,  89,  90,  91,  92,  93,  94,  95,  96,  97,  98,  99, 100,\n",
       "       101, 102, 103, 104], dtype=int64)"
      ]
     },
     "execution_count": 146,
     "metadata": {},
     "output_type": "execute_result"
    }
   ],
   "source": [
    "# Index number of cat features\n",
    "cat_features = np.where(X_train.dtypes != float)[0]\n",
    "cat_features"
   ]
  },
  {
   "cell_type": "code",
   "execution_count": 147,
   "metadata": {
    "papermill": {
     "duration": 0.075467,
     "end_time": "2021-04-05T10:52:53.286549",
     "exception": false,
     "start_time": "2021-04-05T10:52:53.211082",
     "status": "completed"
    },
    "tags": []
   },
   "outputs": [],
   "source": [
    "train_dataset = Pool(data=X_train,\n",
    "                     label=y_train,\n",
    "                     cat_features = cat_features)"
   ]
  },
  {
   "cell_type": "code",
   "execution_count": 148,
   "metadata": {
    "papermill": {
     "duration": 0.053473,
     "end_time": "2021-04-05T10:52:53.381912",
     "exception": false,
     "start_time": "2021-04-05T10:52:53.328439",
     "status": "completed"
    },
    "tags": []
   },
   "outputs": [],
   "source": [
    "def objective(trial):\n",
    "    param = {\n",
    "        'iterations':trial.suggest_categorical('iterations', [100,200,300,500,1000,1200,1500,2000,3000,4000,5000]),\n",
    "        'learning_rate':trial.suggest_float(\"learning_rate\", 0.001, 0.3),\n",
    "        'random_strength':trial.suggest_int(\"random_strength\", 1,10),\n",
    "        'bagging_temperature':trial.suggest_int(\"bagging_temperature\", 0,10),\n",
    "        'max_bin':trial.suggest_categorical('max_bin', [4,5,6,8,10,20,30]),\n",
    "        'grow_policy':trial.suggest_categorical('grow_policy', ['SymmetricTree', 'Depthwise', 'Lossguide']),\n",
    "        'min_data_in_leaf':trial.suggest_int(\"min_data_in_leaf\", 1,10),\n",
    "        'od_type' : \"Iter\",\n",
    "        'od_wait' : 100,\n",
    "        \"depth\": trial.suggest_int(\"max_depth\", 2,10),\n",
    "        \"l2_leaf_reg\": trial.suggest_loguniform(\"l2_leaf_reg\", 1e-8, 100),\n",
    "        'one_hot_max_size':trial.suggest_categorical('one_hot_max_size', [5,10,12,100,500,1024]),\n",
    "        'custom_metric' : ['AUC'],\n",
    "        \"loss_function\": \"Logloss\",\n",
    "        'auto_class_weights':trial.suggest_categorical('auto_class_weights', ['Balanced', 'SqrtBalanced']),\n",
    "        }\n",
    "\n",
    "    scores = cv(train_dataset,\n",
    "            param,\n",
    "            fold_count=10, \n",
    "            early_stopping_rounds=10,         \n",
    "            plot=False, verbose=False)\n",
    "\n",
    "    return scores['test-AUC-mean'].max()"
   ]
  },
  {
   "cell_type": "code",
   "execution_count": 150,
   "metadata": {
    "papermill": {
     "duration": 0.097222,
     "end_time": "2021-04-05T10:52:53.516962",
     "exception": false,
     "start_time": "2021-04-05T10:52:53.419740",
     "status": "completed"
    },
    "tags": []
   },
   "outputs": [
    {
     "name": "stderr",
     "output_type": "stream",
     "text": [
      "\u001b[32m[I 2021-04-08 06:45:42,423]\u001b[0m A new study created in memory with name: no-name-56004c1d-182d-4a61-b9f8-c199e3f637d5\u001b[0m\n",
      "\u001b[32m[I 2021-04-08 06:46:34,734]\u001b[0m Trial 0 finished with value: 0.8585526376329218 and parameters: {'iterations': 300, 'learning_rate': 0.013964954297408176, 'random_strength': 1, 'bagging_temperature': 8, 'max_bin': 10, 'grow_policy': 'Lossguide', 'min_data_in_leaf': 4, 'max_depth': 5, 'l2_leaf_reg': 21.328495943450676, 'one_hot_max_size': 100, 'auto_class_weights': 'SqrtBalanced'}. Best is trial 0 with value: 0.8585526376329218.\u001b[0m\n",
      "\u001b[32m[I 2021-04-08 06:47:05,679]\u001b[0m Trial 1 finished with value: 0.8603229456814425 and parameters: {'iterations': 1200, 'learning_rate': 0.11477165079768124, 'random_strength': 9, 'bagging_temperature': 6, 'max_bin': 5, 'grow_policy': 'Lossguide', 'min_data_in_leaf': 5, 'max_depth': 7, 'l2_leaf_reg': 0.5714362138520529, 'one_hot_max_size': 500, 'auto_class_weights': 'SqrtBalanced'}. Best is trial 1 with value: 0.8603229456814425.\u001b[0m\n"
     ]
    },
    {
     "name": "stdout",
     "output_type": "stream",
     "text": [
      "Stopped by overfitting detector  (10 iterations wait)\n"
     ]
    },
    {
     "name": "stderr",
     "output_type": "stream",
     "text": [
      "\u001b[32m[I 2021-04-08 06:47:25,654]\u001b[0m Trial 2 finished with value: 0.8368923253294923 and parameters: {'iterations': 500, 'learning_rate': 0.10424841039250944, 'random_strength': 8, 'bagging_temperature': 3, 'max_bin': 6, 'grow_policy': 'Depthwise', 'min_data_in_leaf': 3, 'max_depth': 10, 'l2_leaf_reg': 7.961547985302404e-08, 'one_hot_max_size': 5, 'auto_class_weights': 'Balanced'}. Best is trial 1 with value: 0.8603229456814425.\u001b[0m\n"
     ]
    },
    {
     "name": "stdout",
     "output_type": "stream",
     "text": [
      "Stopped by overfitting detector  (10 iterations wait)\n"
     ]
    },
    {
     "name": "stderr",
     "output_type": "stream",
     "text": [
      "\u001b[32m[I 2021-04-08 06:48:06,981]\u001b[0m Trial 3 finished with value: 0.8575016417253865 and parameters: {'iterations': 4000, 'learning_rate': 0.06981342303072555, 'random_strength': 6, 'bagging_temperature': 7, 'max_bin': 30, 'grow_policy': 'Lossguide', 'min_data_in_leaf': 3, 'max_depth': 6, 'l2_leaf_reg': 1.253388039132331e-06, 'one_hot_max_size': 500, 'auto_class_weights': 'SqrtBalanced'}. Best is trial 1 with value: 0.8603229456814425.\u001b[0m\n"
     ]
    },
    {
     "name": "stdout",
     "output_type": "stream",
     "text": [
      "Stopped by overfitting detector  (10 iterations wait)\n"
     ]
    },
    {
     "name": "stderr",
     "output_type": "stream",
     "text": [
      "\u001b[32m[I 2021-04-08 06:48:27,473]\u001b[0m Trial 4 finished with value: 0.8586675981281925 and parameters: {'iterations': 300, 'learning_rate': 0.19342991898511874, 'random_strength': 8, 'bagging_temperature': 7, 'max_bin': 20, 'grow_policy': 'Lossguide', 'min_data_in_leaf': 7, 'max_depth': 2, 'l2_leaf_reg': 0.0011659140576640084, 'one_hot_max_size': 12, 'auto_class_weights': 'SqrtBalanced'}. Best is trial 1 with value: 0.8603229456814425.\u001b[0m\n"
     ]
    },
    {
     "name": "stdout",
     "output_type": "stream",
     "text": [
      "Stopped by overfitting detector  (10 iterations wait)\n"
     ]
    },
    {
     "name": "stderr",
     "output_type": "stream",
     "text": [
      "\u001b[32m[I 2021-04-08 06:48:38,550]\u001b[0m Trial 5 finished with value: 0.8564892389418693 and parameters: {'iterations': 100, 'learning_rate': 0.21103536986772822, 'random_strength': 4, 'bagging_temperature': 4, 'max_bin': 6, 'grow_policy': 'Lossguide', 'min_data_in_leaf': 6, 'max_depth': 4, 'l2_leaf_reg': 1.5248267732768012e-08, 'one_hot_max_size': 100, 'auto_class_weights': 'SqrtBalanced'}. Best is trial 1 with value: 0.8603229456814425.\u001b[0m\n"
     ]
    },
    {
     "name": "stdout",
     "output_type": "stream",
     "text": [
      "Stopped by overfitting detector  (10 iterations wait)\n"
     ]
    },
    {
     "name": "stderr",
     "output_type": "stream",
     "text": [
      "\u001b[32m[I 2021-04-08 06:50:08,831]\u001b[0m Trial 6 finished with value: 0.8605099679890091 and parameters: {'iterations': 1000, 'learning_rate': 0.039222305770230614, 'random_strength': 5, 'bagging_temperature': 3, 'max_bin': 20, 'grow_policy': 'SymmetricTree', 'min_data_in_leaf': 10, 'max_depth': 4, 'l2_leaf_reg': 3.544948380552023e-06, 'one_hot_max_size': 10, 'auto_class_weights': 'Balanced'}. Best is trial 6 with value: 0.8605099679890091.\u001b[0m\n"
     ]
    },
    {
     "name": "stdout",
     "output_type": "stream",
     "text": [
      "Stopped by overfitting detector  (10 iterations wait)\n"
     ]
    },
    {
     "name": "stderr",
     "output_type": "stream",
     "text": [
      "\u001b[32m[I 2021-04-08 06:51:15,960]\u001b[0m Trial 7 finished with value: 0.8589576087086522 and parameters: {'iterations': 1000, 'learning_rate': 0.045869610193466345, 'random_strength': 9, 'bagging_temperature': 10, 'max_bin': 30, 'grow_policy': 'Lossguide', 'min_data_in_leaf': 8, 'max_depth': 5, 'l2_leaf_reg': 6.629274905463984e-06, 'one_hot_max_size': 12, 'auto_class_weights': 'Balanced'}. Best is trial 6 with value: 0.8605099679890091.\u001b[0m\n"
     ]
    },
    {
     "name": "stdout",
     "output_type": "stream",
     "text": [
      "Stopped by overfitting detector  (10 iterations wait)\n"
     ]
    },
    {
     "name": "stderr",
     "output_type": "stream",
     "text": [
      "\u001b[32m[I 2021-04-08 06:51:31,004]\u001b[0m Trial 8 finished with value: 0.8528217687771015 and parameters: {'iterations': 1500, 'learning_rate': 0.2775338323862574, 'random_strength': 6, 'bagging_temperature': 4, 'max_bin': 4, 'grow_policy': 'Lossguide', 'min_data_in_leaf': 9, 'max_depth': 9, 'l2_leaf_reg': 0.0010943835695463693, 'one_hot_max_size': 500, 'auto_class_weights': 'SqrtBalanced'}. Best is trial 6 with value: 0.8605099679890091.\u001b[0m\n"
     ]
    },
    {
     "name": "stdout",
     "output_type": "stream",
     "text": [
      "Stopped by overfitting detector  (10 iterations wait)\n"
     ]
    },
    {
     "name": "stderr",
     "output_type": "stream",
     "text": [
      "\u001b[32m[I 2021-04-08 06:51:49,810]\u001b[0m Trial 9 finished with value: 0.8572167719660676 and parameters: {'iterations': 1000, 'learning_rate': 0.16527427195333977, 'random_strength': 1, 'bagging_temperature': 9, 'max_bin': 8, 'grow_policy': 'SymmetricTree', 'min_data_in_leaf': 2, 'max_depth': 5, 'l2_leaf_reg': 5.547808519611033e-05, 'one_hot_max_size': 100, 'auto_class_weights': 'SqrtBalanced'}. Best is trial 6 with value: 0.8605099679890091.\u001b[0m\n"
     ]
    },
    {
     "name": "stdout",
     "output_type": "stream",
     "text": [
      "Stopped by overfitting detector  (10 iterations wait)\n"
     ]
    },
    {
     "name": "stderr",
     "output_type": "stream",
     "text": [
      "\u001b[32m[I 2021-04-08 06:58:31,542]\u001b[0m Trial 10 finished with value: 0.8591985185353671 and parameters: {'iterations': 5000, 'learning_rate': 0.010762266734580167, 'random_strength': 3, 'bagging_temperature': 0, 'max_bin': 20, 'grow_policy': 'SymmetricTree', 'min_data_in_leaf': 10, 'max_depth': 2, 'l2_leaf_reg': 0.10127958284396282, 'one_hot_max_size': 10, 'auto_class_weights': 'Balanced'}. Best is trial 6 with value: 0.8605099679890091.\u001b[0m\n"
     ]
    },
    {
     "name": "stdout",
     "output_type": "stream",
     "text": [
      "Stopped by overfitting detector  (10 iterations wait)\n"
     ]
    },
    {
     "name": "stderr",
     "output_type": "stream",
     "text": [
      "\u001b[32m[I 2021-04-08 06:59:08,482]\u001b[0m Trial 11 finished with value: 0.8607816262653284 and parameters: {'iterations': 1200, 'learning_rate': 0.11322551338851809, 'random_strength': 10, 'bagging_temperature': 1, 'max_bin': 5, 'grow_policy': 'SymmetricTree', 'min_data_in_leaf': 5, 'max_depth': 8, 'l2_leaf_reg': 43.57209194906412, 'one_hot_max_size': 1024, 'auto_class_weights': 'Balanced'}. Best is trial 11 with value: 0.8607816262653284.\u001b[0m\n"
     ]
    },
    {
     "name": "stdout",
     "output_type": "stream",
     "text": [
      "Stopped by overfitting detector  (10 iterations wait)\n"
     ]
    },
    {
     "name": "stderr",
     "output_type": "stream",
     "text": [
      "\u001b[32m[I 2021-04-08 06:59:48,365]\u001b[0m Trial 12 finished with value: 0.8613701943133913 and parameters: {'iterations': 2000, 'learning_rate': 0.09961795086011382, 'random_strength': 4, 'bagging_temperature': 1, 'max_bin': 5, 'grow_policy': 'SymmetricTree', 'min_data_in_leaf': 6, 'max_depth': 8, 'l2_leaf_reg': 62.63368620692968, 'one_hot_max_size': 1024, 'auto_class_weights': 'Balanced'}. Best is trial 12 with value: 0.8613701943133913.\u001b[0m\n"
     ]
    },
    {
     "name": "stdout",
     "output_type": "stream",
     "text": [
      "Stopped by overfitting detector  (10 iterations wait)\n"
     ]
    },
    {
     "name": "stderr",
     "output_type": "stream",
     "text": [
      "\u001b[32m[I 2021-04-08 07:00:24,630]\u001b[0m Trial 13 finished with value: 0.8613415868457771 and parameters: {'iterations': 2000, 'learning_rate': 0.12088872443638732, 'random_strength': 3, 'bagging_temperature': 0, 'max_bin': 5, 'grow_policy': 'SymmetricTree', 'min_data_in_leaf': 6, 'max_depth': 8, 'l2_leaf_reg': 61.63488178410244, 'one_hot_max_size': 1024, 'auto_class_weights': 'Balanced'}. Best is trial 12 with value: 0.8613701943133913.\u001b[0m\n"
     ]
    },
    {
     "name": "stdout",
     "output_type": "stream",
     "text": [
      "Stopped by overfitting detector  (10 iterations wait)\n"
     ]
    },
    {
     "name": "stderr",
     "output_type": "stream",
     "text": [
      "\u001b[32m[I 2021-04-08 07:00:53,628]\u001b[0m Trial 14 finished with value: 0.855096502695367 and parameters: {'iterations': 2000, 'learning_rate': 0.14835756064337013, 'random_strength': 3, 'bagging_temperature': 0, 'max_bin': 5, 'grow_policy': 'SymmetricTree', 'min_data_in_leaf': 7, 'max_depth': 10, 'l2_leaf_reg': 1.5637683031256537, 'one_hot_max_size': 1024, 'auto_class_weights': 'Balanced'}. Best is trial 12 with value: 0.8613701943133913.\u001b[0m\n"
     ]
    },
    {
     "name": "stdout",
     "output_type": "stream",
     "text": [
      "Stopped by overfitting detector  (10 iterations wait)\n"
     ]
    },
    {
     "name": "stderr",
     "output_type": "stream",
     "text": [
      "\u001b[32m[I 2021-04-08 07:01:35,680]\u001b[0m Trial 15 finished with value: 0.8616285796286872 and parameters: {'iterations': 2000, 'learning_rate': 0.07951489401924636, 'random_strength': 2, 'bagging_temperature': 1, 'max_bin': 5, 'grow_policy': 'SymmetricTree', 'min_data_in_leaf': 6, 'max_depth': 8, 'l2_leaf_reg': 62.705713595381376, 'one_hot_max_size': 1024, 'auto_class_weights': 'Balanced'}. Best is trial 15 with value: 0.8616285796286872.\u001b[0m\n"
     ]
    },
    {
     "name": "stdout",
     "output_type": "stream",
     "text": [
      "Stopped by overfitting detector  (10 iterations wait)\n"
     ]
    },
    {
     "name": "stderr",
     "output_type": "stream",
     "text": [
      "\u001b[32m[I 2021-04-08 07:02:04,888]\u001b[0m Trial 16 finished with value: 0.8577493269808103 and parameters: {'iterations': 2000, 'learning_rate': 0.0744607791169085, 'random_strength': 2, 'bagging_temperature': 2, 'max_bin': 5, 'grow_policy': 'Depthwise', 'min_data_in_leaf': 8, 'max_depth': 8, 'l2_leaf_reg': 0.06915594233689655, 'one_hot_max_size': 1024, 'auto_class_weights': 'Balanced'}. Best is trial 15 with value: 0.8616285796286872.\u001b[0m\n"
     ]
    },
    {
     "name": "stdout",
     "output_type": "stream",
     "text": [
      "Stopped by overfitting detector  (10 iterations wait)\n"
     ]
    },
    {
     "name": "stderr",
     "output_type": "stream",
     "text": [
      "\u001b[32m[I 2021-04-08 07:02:48,283]\u001b[0m Trial 17 finished with value: 0.8600820168476628 and parameters: {'iterations': 200, 'learning_rate': 0.07684406381403432, 'random_strength': 5, 'bagging_temperature': 2, 'max_bin': 4, 'grow_policy': 'SymmetricTree', 'min_data_in_leaf': 1, 'max_depth': 9, 'l2_leaf_reg': 6.4247724894952425, 'one_hot_max_size': 1024, 'auto_class_weights': 'Balanced'}. Best is trial 15 with value: 0.8616285796286872.\u001b[0m\n"
     ]
    },
    {
     "name": "stdout",
     "output_type": "stream",
     "text": [
      "Stopped by overfitting detector  (10 iterations wait)\n"
     ]
    },
    {
     "name": "stderr",
     "output_type": "stream",
     "text": [
      "\u001b[32m[I 2021-04-08 07:03:04,130]\u001b[0m Trial 18 finished with value: 0.8543553821104531 and parameters: {'iterations': 2000, 'learning_rate': 0.16672331851591765, 'random_strength': 2, 'bagging_temperature': 1, 'max_bin': 5, 'grow_policy': 'SymmetricTree', 'min_data_in_leaf': 4, 'max_depth': 7, 'l2_leaf_reg': 0.021606642032831525, 'one_hot_max_size': 5, 'auto_class_weights': 'Balanced'}. Best is trial 15 with value: 0.8616285796286872.\u001b[0m\n"
     ]
    },
    {
     "name": "stdout",
     "output_type": "stream",
     "text": [
      "Stopped by overfitting detector  (10 iterations wait)\n"
     ]
    },
    {
     "name": "stderr",
     "output_type": "stream",
     "text": [
      "\u001b[32m[I 2021-04-08 07:03:18,959]\u001b[0m Trial 19 finished with value: 0.8543137681739721 and parameters: {'iterations': 3000, 'learning_rate': 0.2372277057838844, 'random_strength': 4, 'bagging_temperature': 5, 'max_bin': 8, 'grow_policy': 'Depthwise', 'min_data_in_leaf': 7, 'max_depth': 9, 'l2_leaf_reg': 2.465405577846948, 'one_hot_max_size': 1024, 'auto_class_weights': 'Balanced'}. Best is trial 15 with value: 0.8616285796286872.\u001b[0m\n"
     ]
    },
    {
     "name": "stdout",
     "output_type": "stream",
     "text": [
      "Stopped by overfitting detector  (10 iterations wait)\n"
     ]
    },
    {
     "name": "stderr",
     "output_type": "stream",
     "text": [
      "\u001b[32m[I 2021-04-08 07:04:22,397]\u001b[0m Trial 20 finished with value: 0.8622908444898643 and parameters: {'iterations': 2000, 'learning_rate': 0.044265091319581354, 'random_strength': 2, 'bagging_temperature': 1, 'max_bin': 10, 'grow_policy': 'SymmetricTree', 'min_data_in_leaf': 8, 'max_depth': 7, 'l2_leaf_reg': 73.52506535922271, 'one_hot_max_size': 1024, 'auto_class_weights': 'Balanced'}. Best is trial 20 with value: 0.8622908444898643.\u001b[0m\n"
     ]
    },
    {
     "name": "stdout",
     "output_type": "stream",
     "text": [
      "Stopped by overfitting detector  (10 iterations wait)\n"
     ]
    },
    {
     "name": "stderr",
     "output_type": "stream",
     "text": [
      "\u001b[32m[I 2021-04-08 07:05:37,148]\u001b[0m Trial 21 finished with value: 0.8625784609666646 and parameters: {'iterations': 2000, 'learning_rate': 0.042606984231318104, 'random_strength': 2, 'bagging_temperature': 1, 'max_bin': 10, 'grow_policy': 'SymmetricTree', 'min_data_in_leaf': 8, 'max_depth': 7, 'l2_leaf_reg': 62.50005938682571, 'one_hot_max_size': 1024, 'auto_class_weights': 'Balanced'}. Best is trial 21 with value: 0.8625784609666646.\u001b[0m\n"
     ]
    },
    {
     "name": "stdout",
     "output_type": "stream",
     "text": [
      "Stopped by overfitting detector  (10 iterations wait)\n"
     ]
    },
    {
     "name": "stderr",
     "output_type": "stream",
     "text": [
      "\u001b[32m[I 2021-04-08 07:06:51,859]\u001b[0m Trial 22 finished with value: 0.862609807680017 and parameters: {'iterations': 2000, 'learning_rate': 0.03526272914782955, 'random_strength': 1, 'bagging_temperature': 2, 'max_bin': 10, 'grow_policy': 'SymmetricTree', 'min_data_in_leaf': 9, 'max_depth': 7, 'l2_leaf_reg': 98.00004001104887, 'one_hot_max_size': 1024, 'auto_class_weights': 'Balanced'}. Best is trial 22 with value: 0.862609807680017.\u001b[0m\n"
     ]
    },
    {
     "name": "stdout",
     "output_type": "stream",
     "text": [
      "Stopped by overfitting detector  (10 iterations wait)\n"
     ]
    },
    {
     "name": "stderr",
     "output_type": "stream",
     "text": [
      "\u001b[32m[I 2021-04-08 07:08:19,384]\u001b[0m Trial 23 finished with value: 0.8625368590898382 and parameters: {'iterations': 2000, 'learning_rate': 0.028079602905080877, 'random_strength': 1, 'bagging_temperature': 2, 'max_bin': 10, 'grow_policy': 'SymmetricTree', 'min_data_in_leaf': 9, 'max_depth': 6, 'l2_leaf_reg': 8.151804570593427, 'one_hot_max_size': 1024, 'auto_class_weights': 'Balanced'}. Best is trial 22 with value: 0.862609807680017.\u001b[0m\n"
     ]
    },
    {
     "name": "stdout",
     "output_type": "stream",
     "text": [
      "Stopped by overfitting detector  (10 iterations wait)\n"
     ]
    },
    {
     "name": "stderr",
     "output_type": "stream",
     "text": [
      "\u001b[32m[I 2021-04-08 07:12:40,439]\u001b[0m Trial 24 finished with value: 0.86102290443585 and parameters: {'iterations': 2000, 'learning_rate': 0.004607740064806687, 'random_strength': 1, 'bagging_temperature': 3, 'max_bin': 10, 'grow_policy': 'SymmetricTree', 'min_data_in_leaf': 9, 'max_depth': 6, 'l2_leaf_reg': 7.454228172328469, 'one_hot_max_size': 1024, 'auto_class_weights': 'Balanced'}. Best is trial 22 with value: 0.862609807680017.\u001b[0m\n",
      "\u001b[32m[I 2021-04-08 07:13:48,696]\u001b[0m Trial 25 finished with value: 0.8620383161032587 and parameters: {'iterations': 500, 'learning_rate': 0.029800286889888797, 'random_strength': 1, 'bagging_temperature': 2, 'max_bin': 10, 'grow_policy': 'SymmetricTree', 'min_data_in_leaf': 9, 'max_depth': 6, 'l2_leaf_reg': 0.3983195710858186, 'one_hot_max_size': 1024, 'auto_class_weights': 'Balanced'}. Best is trial 22 with value: 0.862609807680017.\u001b[0m\n",
      "\u001b[32m[I 2021-04-08 07:17:28,102]\u001b[0m Trial 26 finished with value: 0.8569233627913475 and parameters: {'iterations': 1500, 'learning_rate': 0.0023210645307338296, 'random_strength': 1, 'bagging_temperature': 4, 'max_bin': 10, 'grow_policy': 'SymmetricTree', 'min_data_in_leaf': 10, 'max_depth': 7, 'l2_leaf_reg': 0.004759409663449386, 'one_hot_max_size': 1024, 'auto_class_weights': 'Balanced'}. Best is trial 22 with value: 0.862609807680017.\u001b[0m\n",
      "\u001b[32m[I 2021-04-08 07:17:54,158]\u001b[0m Trial 27 finished with value: 0.8586858645728338 and parameters: {'iterations': 200, 'learning_rate': 0.058188099886556335, 'random_strength': 2, 'bagging_temperature': 2, 'max_bin': 10, 'grow_policy': 'SymmetricTree', 'min_data_in_leaf': 9, 'max_depth': 4, 'l2_leaf_reg': 6.437314831333228, 'one_hot_max_size': 12, 'auto_class_weights': 'Balanced'}. Best is trial 22 with value: 0.862609807680017.\u001b[0m\n",
      "\u001b[32m[I 2021-04-08 07:19:20,312]\u001b[0m Trial 28 finished with value: 0.8615587020558392 and parameters: {'iterations': 4000, 'learning_rate': 0.024790989919655556, 'random_strength': 3, 'bagging_temperature': 5, 'max_bin': 10, 'grow_policy': 'Depthwise', 'min_data_in_leaf': 8, 'max_depth': 6, 'l2_leaf_reg': 0.403678181577556, 'one_hot_max_size': 10, 'auto_class_weights': 'Balanced'}. Best is trial 22 with value: 0.862609807680017.\u001b[0m\n"
     ]
    },
    {
     "name": "stdout",
     "output_type": "stream",
     "text": [
      "Stopped by overfitting detector  (10 iterations wait)\n"
     ]
    },
    {
     "name": "stderr",
     "output_type": "stream",
     "text": [
      "\u001b[32m[I 2021-04-08 07:19:36,704]\u001b[0m Trial 29 finished with value: 0.8450047500358892 and parameters: {'iterations': 100, 'learning_rate': 0.017388446552419206, 'random_strength': 1, 'bagging_temperature': 3, 'max_bin': 10, 'grow_policy': 'SymmetricTree', 'min_data_in_leaf': 10, 'max_depth': 5, 'l2_leaf_reg': 13.433470826373599, 'one_hot_max_size': 5, 'auto_class_weights': 'Balanced'}. Best is trial 22 with value: 0.862609807680017.\u001b[0m\n",
      "\u001b[32m[I 2021-04-08 07:19:59,496]\u001b[0m Trial 30 finished with value: 0.8560876842877153 and parameters: {'iterations': 3000, 'learning_rate': 0.05609115749150309, 'random_strength': 1, 'bagging_temperature': 0, 'max_bin': 10, 'grow_policy': 'SymmetricTree', 'min_data_in_leaf': 9, 'max_depth': 7, 'l2_leaf_reg': 0.00013076250641927363, 'one_hot_max_size': 100, 'auto_class_weights': 'Balanced'}. Best is trial 22 with value: 0.862609807680017.\u001b[0m\n"
     ]
    },
    {
     "name": "stdout",
     "output_type": "stream",
     "text": [
      "Stopped by overfitting detector  (10 iterations wait)\n"
     ]
    },
    {
     "name": "stderr",
     "output_type": "stream",
     "text": [
      "\u001b[32m[I 2021-04-08 07:21:11,349]\u001b[0m Trial 31 finished with value: 0.8622584181752337 and parameters: {'iterations': 2000, 'learning_rate': 0.04366243751897575, 'random_strength': 2, 'bagging_temperature': 1, 'max_bin': 10, 'grow_policy': 'SymmetricTree', 'min_data_in_leaf': 8, 'max_depth': 7, 'l2_leaf_reg': 26.199827613558732, 'one_hot_max_size': 1024, 'auto_class_weights': 'Balanced'}. Best is trial 22 with value: 0.862609807680017.\u001b[0m\n"
     ]
    },
    {
     "name": "stdout",
     "output_type": "stream",
     "text": [
      "Stopped by overfitting detector  (10 iterations wait)\n"
     ]
    },
    {
     "name": "stderr",
     "output_type": "stream",
     "text": [
      "\u001b[32m[I 2021-04-08 07:26:05,909]\u001b[0m Trial 32 finished with value: 0.8573416738116191 and parameters: {'iterations': 2000, 'learning_rate': 0.0026147015459110426, 'random_strength': 2, 'bagging_temperature': 2, 'max_bin': 10, 'grow_policy': 'SymmetricTree', 'min_data_in_leaf': 8, 'max_depth': 7, 'l2_leaf_reg': 70.1393538899556, 'one_hot_max_size': 1024, 'auto_class_weights': 'Balanced'}. Best is trial 22 with value: 0.862609807680017.\u001b[0m\n",
      "\u001b[32m[I 2021-04-08 07:26:35,833]\u001b[0m Trial 33 finished with value: 0.8604898136840473 and parameters: {'iterations': 2000, 'learning_rate': 0.091552077805099, 'random_strength': 3, 'bagging_temperature': 1, 'max_bin': 10, 'grow_policy': 'SymmetricTree', 'min_data_in_leaf': 7, 'max_depth': 6, 'l2_leaf_reg': 2.449615205881121, 'one_hot_max_size': 1024, 'auto_class_weights': 'Balanced'}. Best is trial 22 with value: 0.862609807680017.\u001b[0m\n"
     ]
    },
    {
     "name": "stdout",
     "output_type": "stream",
     "text": [
      "Stopped by overfitting detector  (10 iterations wait)\n"
     ]
    },
    {
     "name": "stderr",
     "output_type": "stream",
     "text": [
      "\u001b[32m[I 2021-04-08 07:27:19,874]\u001b[0m Trial 34 finished with value: 0.862375291567718 and parameters: {'iterations': 5000, 'learning_rate': 0.0571557613338729, 'random_strength': 1, 'bagging_temperature': 0, 'max_bin': 10, 'grow_policy': 'SymmetricTree', 'min_data_in_leaf': 9, 'max_depth': 7, 'l2_leaf_reg': 18.043642692124692, 'one_hot_max_size': 1024, 'auto_class_weights': 'Balanced'}. Best is trial 22 with value: 0.862609807680017.\u001b[0m\n"
     ]
    },
    {
     "name": "stdout",
     "output_type": "stream",
     "text": [
      "Stopped by overfitting detector  (10 iterations wait)\n"
     ]
    },
    {
     "name": "stderr",
     "output_type": "stream",
     "text": [
      "\u001b[32m[I 2021-04-08 07:27:51,143]\u001b[0m Trial 35 finished with value: 0.8618001596792684 and parameters: {'iterations': 5000, 'learning_rate': 0.13332628241447375, 'random_strength': 1, 'bagging_temperature': 0, 'max_bin': 10, 'grow_policy': 'SymmetricTree', 'min_data_in_leaf': 10, 'max_depth': 5, 'l2_leaf_reg': 17.977646693040857, 'one_hot_max_size': 500, 'auto_class_weights': 'Balanced'}. Best is trial 22 with value: 0.862609807680017.\u001b[0m\n"
     ]
    },
    {
     "name": "stdout",
     "output_type": "stream",
     "text": [
      "Stopped by overfitting detector  (10 iterations wait)\n"
     ]
    },
    {
     "name": "stderr",
     "output_type": "stream",
     "text": [
      "\u001b[32m[I 2021-04-08 07:28:21,472]\u001b[0m Trial 36 finished with value: 0.8612109438180058 and parameters: {'iterations': 5000, 'learning_rate': 0.060970889788992705, 'random_strength': 1, 'bagging_temperature': 3, 'max_bin': 6, 'grow_policy': 'Depthwise', 'min_data_in_leaf': 9, 'max_depth': 6, 'l2_leaf_reg': 0.9544216041805242, 'one_hot_max_size': 1024, 'auto_class_weights': 'Balanced'}. Best is trial 22 with value: 0.862609807680017.\u001b[0m\n"
     ]
    },
    {
     "name": "stdout",
     "output_type": "stream",
     "text": [
      "Stopped by overfitting detector  (10 iterations wait)\n"
     ]
    },
    {
     "name": "stderr",
     "output_type": "stream",
     "text": [
      "\u001b[32m[I 2021-04-08 07:29:03,819]\u001b[0m Trial 37 finished with value: 0.8558765210416673 and parameters: {'iterations': 300, 'learning_rate': 0.021838059939802965, 'random_strength': 7, 'bagging_temperature': 2, 'max_bin': 30, 'grow_policy': 'SymmetricTree', 'min_data_in_leaf': 9, 'max_depth': 7, 'l2_leaf_reg': 0.09959386166070887, 'one_hot_max_size': 5, 'auto_class_weights': 'SqrtBalanced'}. Best is trial 22 with value: 0.862609807680017.\u001b[0m\n",
      "\u001b[32m[I 2021-04-08 07:30:31,188]\u001b[0m Trial 38 finished with value: 0.8612907749318722 and parameters: {'iterations': 5000, 'learning_rate': 0.030581297756174224, 'random_strength': 2, 'bagging_temperature': 6, 'max_bin': 10, 'grow_policy': 'SymmetricTree', 'min_data_in_leaf': 10, 'max_depth': 4, 'l2_leaf_reg': 3.894995143050487, 'one_hot_max_size': 12, 'auto_class_weights': 'Balanced'}. Best is trial 22 with value: 0.862609807680017.\u001b[0m\n"
     ]
    },
    {
     "name": "stdout",
     "output_type": "stream",
     "text": [
      "Stopped by overfitting detector  (10 iterations wait)\n"
     ]
    },
    {
     "name": "stderr",
     "output_type": "stream",
     "text": [
      "\u001b[32m[I 2021-04-08 07:30:52,693]\u001b[0m Trial 39 finished with value: 0.8572790902326396 and parameters: {'iterations': 1200, 'learning_rate': 0.09141145504683143, 'random_strength': 4, 'bagging_temperature': 3, 'max_bin': 10, 'grow_policy': 'Lossguide', 'min_data_in_leaf': 7, 'max_depth': 5, 'l2_leaf_reg': 1.5282545810431035e-07, 'one_hot_max_size': 500, 'auto_class_weights': 'Balanced'}. Best is trial 22 with value: 0.862609807680017.\u001b[0m\n"
     ]
    },
    {
     "name": "stdout",
     "output_type": "stream",
     "text": [
      "Stopped by overfitting detector  (10 iterations wait)\n"
     ]
    },
    {
     "name": "stderr",
     "output_type": "stream",
     "text": [
      "\u001b[32m[I 2021-04-08 07:31:32,899]\u001b[0m Trial 40 finished with value: 0.8617817740799941 and parameters: {'iterations': 500, 'learning_rate': 0.05863309194188887, 'random_strength': 1, 'bagging_temperature': 4, 'max_bin': 6, 'grow_policy': 'SymmetricTree', 'min_data_in_leaf': 9, 'max_depth': 6, 'l2_leaf_reg': 18.0233382126146, 'one_hot_max_size': 1024, 'auto_class_weights': 'SqrtBalanced'}. Best is trial 22 with value: 0.862609807680017.\u001b[0m\n"
     ]
    },
    {
     "name": "stdout",
     "output_type": "stream",
     "text": [
      "Stopped by overfitting detector  (10 iterations wait)\n"
     ]
    },
    {
     "name": "stderr",
     "output_type": "stream",
     "text": [
      "\u001b[32m[I 2021-04-08 07:32:37,151]\u001b[0m Trial 41 finished with value: 0.8624183143864881 and parameters: {'iterations': 2000, 'learning_rate': 0.044432328928803416, 'random_strength': 2, 'bagging_temperature': 1, 'max_bin': 10, 'grow_policy': 'SymmetricTree', 'min_data_in_leaf': 8, 'max_depth': 7, 'l2_leaf_reg': 84.05079365936713, 'one_hot_max_size': 1024, 'auto_class_weights': 'Balanced'}. Best is trial 22 with value: 0.862609807680017.\u001b[0m\n"
     ]
    },
    {
     "name": "stdout",
     "output_type": "stream",
     "text": [
      "Stopped by overfitting detector  (10 iterations wait)\n"
     ]
    },
    {
     "name": "stderr",
     "output_type": "stream",
     "text": [
      "\u001b[32m[I 2021-04-08 07:33:33,878]\u001b[0m Trial 42 finished with value: 0.8619779875486581 and parameters: {'iterations': 4000, 'learning_rate': 0.04296737318598617, 'random_strength': 3, 'bagging_temperature': 0, 'max_bin': 10, 'grow_policy': 'SymmetricTree', 'min_data_in_leaf': 8, 'max_depth': 7, 'l2_leaf_reg': 19.70794495725286, 'one_hot_max_size': 1024, 'auto_class_weights': 'Balanced'}. Best is trial 22 with value: 0.862609807680017.\u001b[0m\n"
     ]
    },
    {
     "name": "stdout",
     "output_type": "stream",
     "text": [
      "Stopped by overfitting detector  (10 iterations wait)\n"
     ]
    },
    {
     "name": "stderr",
     "output_type": "stream",
     "text": [
      "\u001b[32m[I 2021-04-08 07:36:51,199]\u001b[0m Trial 43 finished with value: 0.862426409036574 and parameters: {'iterations': 2000, 'learning_rate': 0.011943671829882242, 'random_strength': 2, 'bagging_temperature': 1, 'max_bin': 10, 'grow_policy': 'SymmetricTree', 'min_data_in_leaf': 8, 'max_depth': 8, 'l2_leaf_reg': 9.12026467643942, 'one_hot_max_size': 1024, 'auto_class_weights': 'Balanced'}. Best is trial 22 with value: 0.862609807680017.\u001b[0m\n"
     ]
    },
    {
     "name": "stdout",
     "output_type": "stream",
     "text": [
      "Stopped by overfitting detector  (10 iterations wait)\n"
     ]
    },
    {
     "name": "stderr",
     "output_type": "stream",
     "text": [
      "\u001b[32m[I 2021-04-08 07:40:33,060]\u001b[0m Trial 44 finished with value: 0.86263419571034 and parameters: {'iterations': 2000, 'learning_rate': 0.011474700179802198, 'random_strength': 2, 'bagging_temperature': 2, 'max_bin': 4, 'grow_policy': 'Lossguide', 'min_data_in_leaf': 7, 'max_depth': 8, 'l2_leaf_reg': 99.05683151592714, 'one_hot_max_size': 100, 'auto_class_weights': 'Balanced'}. Best is trial 44 with value: 0.86263419571034.\u001b[0m\n"
     ]
    },
    {
     "name": "stdout",
     "output_type": "stream",
     "text": [
      "Stopped by overfitting detector  (10 iterations wait)\n"
     ]
    },
    {
     "name": "stderr",
     "output_type": "stream",
     "text": [
      "\u001b[32m[I 2021-04-08 07:43:15,215]\u001b[0m Trial 45 finished with value: 0.86199357321067 and parameters: {'iterations': 2000, 'learning_rate': 0.015601520735630273, 'random_strength': 4, 'bagging_temperature': 2, 'max_bin': 4, 'grow_policy': 'Lossguide', 'min_data_in_leaf': 7, 'max_depth': 9, 'l2_leaf_reg': 0.5674765587597007, 'one_hot_max_size': 100, 'auto_class_weights': 'Balanced'}. Best is trial 44 with value: 0.86263419571034.\u001b[0m\n"
     ]
    },
    {
     "name": "stdout",
     "output_type": "stream",
     "text": [
      "Stopped by overfitting detector  (10 iterations wait)\n"
     ]
    },
    {
     "name": "stderr",
     "output_type": "stream",
     "text": [
      "\u001b[32m[I 2021-04-08 07:48:35,562]\u001b[0m Trial 46 finished with value: 0.8624956015685921 and parameters: {'iterations': 2000, 'learning_rate': 0.007736085095600653, 'random_strength': 3, 'bagging_temperature': 4, 'max_bin': 4, 'grow_policy': 'Lossguide', 'min_data_in_leaf': 7, 'max_depth': 8, 'l2_leaf_reg': 7.499443521533301, 'one_hot_max_size': 100, 'auto_class_weights': 'Balanced'}. Best is trial 44 with value: 0.86263419571034.\u001b[0m\n"
     ]
    },
    {
     "name": "stdout",
     "output_type": "stream",
     "text": [
      "Stopped by overfitting detector  (10 iterations wait)\n"
     ]
    },
    {
     "name": "stderr",
     "output_type": "stream",
     "text": [
      "\u001b[32m[I 2021-04-08 07:48:51,968]\u001b[0m Trial 47 finished with value: 0.8478031954404605 and parameters: {'iterations': 100, 'learning_rate': 0.029734414414858742, 'random_strength': 5, 'bagging_temperature': 4, 'max_bin': 4, 'grow_policy': 'Lossguide', 'min_data_in_leaf': 6, 'max_depth': 9, 'l2_leaf_reg': 1.0521712916014843, 'one_hot_max_size': 100, 'auto_class_weights': 'SqrtBalanced'}. Best is trial 44 with value: 0.86263419571034.\u001b[0m\n",
      "\u001b[32m[I 2021-04-08 07:49:42,028]\u001b[0m Trial 48 finished with value: 0.8396113618392009 and parameters: {'iterations': 300, 'learning_rate': 0.004064222944990553, 'random_strength': 3, 'bagging_temperature': 3, 'max_bin': 4, 'grow_policy': 'Lossguide', 'min_data_in_leaf': 5, 'max_depth': 10, 'l2_leaf_reg': 0.24571187865982283, 'one_hot_max_size': 100, 'auto_class_weights': 'Balanced'}. Best is trial 44 with value: 0.86263419571034.\u001b[0m\n",
      "\u001b[32m[I 2021-04-08 07:51:03,793]\u001b[0m Trial 49 finished with value: 0.8620568529725521 and parameters: {'iterations': 1000, 'learning_rate': 0.03357212697550744, 'random_strength': 3, 'bagging_temperature': 6, 'max_bin': 4, 'grow_policy': 'Lossguide', 'min_data_in_leaf': 7, 'max_depth': 8, 'l2_leaf_reg': 96.96783878997343, 'one_hot_max_size': 100, 'auto_class_weights': 'Balanced'}. Best is trial 44 with value: 0.86263419571034.\u001b[0m\n"
     ]
    },
    {
     "name": "stdout",
     "output_type": "stream",
     "text": [
      "Stopped by overfitting detector  (10 iterations wait)\n"
     ]
    }
   ],
   "source": [
    "sampler = optuna.samplers.TPESampler(seed=68)  # Make the sampler behave in a deterministic way.\n",
    "study = optuna.create_study(direction=\"maximize\", sampler=sampler)\n",
    "study.optimize(objective, n_trials=50)"
   ]
  },
  {
   "cell_type": "code",
   "execution_count": null,
   "metadata": {
    "papermill": {
     "duration": 0.077902,
     "end_time": "2021-04-05T10:52:53.634832",
     "exception": false,
     "start_time": "2021-04-05T10:52:53.556930",
     "status": "completed"
    },
    "tags": []
   },
   "outputs": [],
   "source": [
    "print(\"Number of finished trials: {}\".format(len(study.trials)))\n",
    "print(\"Best trial:\")\n",
    "trial = study.best_trial\n",
    "print(\"  Value: {}\".format(trial.value))\n",
    "print(\"  Params: \")\n",
    "for key, value in trial.params.items():\n",
    "    print(\"    {}={},\".format(key, value))"
   ]
  },
  {
   "cell_type": "code",
   "execution_count": null,
   "metadata": {
    "papermill": {
     "duration": 0.072897,
     "end_time": "2021-04-05T10:52:53.753472",
     "exception": false,
     "start_time": "2021-04-05T10:52:53.680575",
     "status": "completed"
    },
    "tags": []
   },
   "outputs": [],
   "source": [
    "final_model_seasonal = CatBoostClassifier(verbose=False,  cat_features=cat_features, \n",
    "                          **trial.params)"
   ]
  },
  {
   "cell_type": "code",
   "execution_count": null,
   "metadata": {
    "papermill": {
     "duration": 0.071535,
     "end_time": "2021-04-05T10:52:53.879174",
     "exception": false,
     "start_time": "2021-04-05T10:52:53.807639",
     "status": "completed"
    },
    "tags": []
   },
   "outputs": [],
   "source": [
    "final_model_seasonal.fit(X_train, y_train)\n",
    "predictions_seasonal = final_model_seasonal.predict_proba(test_df)[:,1]\n",
    "predictions_seasonal_train = final_model_seasonal.predict_proba(X_test)[:,1]"
   ]
  },
  {
   "cell_type": "code",
   "execution_count": null,
   "metadata": {
    "papermill": {
     "duration": 0.069236,
     "end_time": "2021-04-05T10:52:53.989558",
     "exception": false,
     "start_time": "2021-04-05T10:52:53.920322",
     "status": "completed"
    },
    "tags": []
   },
   "outputs": [],
   "source": [
    "predictions_seasonal"
   ]
  },
  {
   "cell_type": "code",
   "execution_count": null,
   "metadata": {
    "papermill": {
     "duration": 0.068036,
     "end_time": "2021-04-05T10:52:54.099922",
     "exception": false,
     "start_time": "2021-04-05T10:52:54.031886",
     "status": "completed"
    },
    "tags": []
   },
   "outputs": [],
   "source": [
    "roc_auc_score(y_test, predictions_seasonal_train)"
   ]
  },
  {
   "cell_type": "code",
   "execution_count": null,
   "metadata": {
    "papermill": {
     "duration": 0.071839,
     "end_time": "2021-04-05T10:52:54.214455",
     "exception": false,
     "start_time": "2021-04-05T10:52:54.142616",
     "status": "completed"
    },
    "tags": []
   },
   "outputs": [],
   "source": [
    "seasonal = pd.Series(predictions_seasonal)"
   ]
  },
  {
   "cell_type": "code",
   "execution_count": null,
   "metadata": {
    "papermill": {
     "duration": 0.068342,
     "end_time": "2021-04-05T10:52:54.326238",
     "exception": false,
     "start_time": "2021-04-05T10:52:54.257896",
     "status": "completed"
    },
    "tags": []
   },
   "outputs": [],
   "source": [
    "h1n1 = pd.Series(predictions_h1)"
   ]
  },
  {
   "cell_type": "code",
   "execution_count": null,
   "metadata": {
    "papermill": {
     "duration": 0.070477,
     "end_time": "2021-04-05T10:52:54.440235",
     "exception": false,
     "start_time": "2021-04-05T10:52:54.369758",
     "status": "completed"
    },
    "tags": []
   },
   "outputs": [],
   "source": [
    "h1n1=h1n1.reset_index().drop('index',axis=1)\n",
    "seasonal=seasonal.reset_index().drop('index',axis=1)"
   ]
  },
  {
   "cell_type": "code",
   "execution_count": null,
   "metadata": {
    "papermill": {
     "duration": 0.071797,
     "end_time": "2021-04-05T10:52:54.556191",
     "exception": false,
     "start_time": "2021-04-05T10:52:54.484394",
     "status": "completed"
    },
    "tags": []
   },
   "outputs": [],
   "source": [
    "respondent_id_df = pd.DataFrame(\n",
    "    test_df.index\n",
    ")"
   ]
  },
  {
   "cell_type": "code",
   "execution_count": null,
   "metadata": {
    "papermill": {
     "duration": 0.076385,
     "end_time": "2021-04-05T10:52:54.682555",
     "exception": false,
     "start_time": "2021-04-05T10:52:54.606170",
     "status": "completed"
    },
    "tags": []
   },
   "outputs": [],
   "source": [
    "submission = respondent_id_df.merge(h1n1 ,how='outer', left_index=True,right_index=True)\n",
    "submission = submission.merge(seasonal ,how='outer', left_index=True,right_index=True)\n",
    "submission = submission.set_index('respondent_id')\n",
    "submission = submission.rename(columns={'0_x':'h1n1_vaccine','0_y':'seasonal_vaccine'})"
   ]
  },
  {
   "cell_type": "code",
   "execution_count": null,
   "metadata": {
    "papermill": {
     "duration": 0.07186,
     "end_time": "2021-04-05T10:52:54.799704",
     "exception": false,
     "start_time": "2021-04-05T10:52:54.727844",
     "status": "completed"
    },
    "tags": []
   },
   "outputs": [],
   "source": [
    "submission.to_csv(r\"C:\\Users\\Horri\\Downloads\\submission_20210331v7.csv\")"
   ]
  },
  {
   "cell_type": "code",
   "execution_count": null,
   "metadata": {
    "papermill": {
     "duration": 0.071484,
     "end_time": "2021-04-05T10:52:54.917085",
     "exception": false,
     "start_time": "2021-04-05T10:52:54.845601",
     "status": "completed"
    },
    "tags": []
   },
   "outputs": [],
   "source": [
    "submission"
   ]
  },
  {
   "cell_type": "code",
   "execution_count": null,
   "metadata": {
    "papermill": {
     "duration": 0.045741,
     "end_time": "2021-04-05T10:52:55.009883",
     "exception": false,
     "start_time": "2021-04-05T10:52:54.964142",
     "status": "completed"
    },
    "tags": []
   },
   "outputs": [],
   "source": []
  }
 ],
 "metadata": {
  "kernelspec": {
   "display_name": "Python 3",
   "language": "python",
   "name": "python3"
  },
  "language_info": {
   "codemirror_mode": {
    "name": "ipython",
    "version": 3
   },
   "file_extension": ".py",
   "mimetype": "text/x-python",
   "name": "python",
   "nbconvert_exporter": "python",
   "pygments_lexer": "ipython3",
   "version": "3.8.5"
  },
  "papermill": {
   "default_parameters": {},
   "duration": 15.041494,
   "end_time": "2021-04-05T10:52:56.173343",
   "environment_variables": {},
   "exception": null,
   "input_path": "__notebook__.ipynb",
   "output_path": "__notebook__.ipynb",
   "parameters": {},
   "start_time": "2021-04-05T10:52:41.131849",
   "version": "2.3.2"
  }
 },
 "nbformat": 4,
 "nbformat_minor": 5
}
