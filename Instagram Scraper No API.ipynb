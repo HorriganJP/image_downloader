{
 "cells": [
  {
   "cell_type": "markdown",
   "id": "3d2c3fd1-5a39-4778-91dc-4ecbacc48d4f",
   "metadata": {},
   "source": [
    "## API KEY SOURCED FROM THE BELOW URL ##\n",
    "### URL: https://rapidapi.com/yuananf/api/instagram28/\n"
   ]
  },
  {
   "cell_type": "code",
   "execution_count": 421,
   "id": "4e7b9702-9dac-426b-8648-be959c3e5346",
   "metadata": {},
   "outputs": [],
   "source": [
    "import requests\n",
    "import pandas as pd\n",
    "import json\n",
    "from datetime import datetime\n",
    "import urllib.request\n",
    "import os\n",
    "import ipywidgets as widgets\n",
    "from IPython.display import display"
   ]
  },
  {
   "cell_type": "code",
   "execution_count": 326,
   "id": "b9b84ee8-3542-4114-8f09-492dba021908",
   "metadata": {},
   "outputs": [],
   "source": [
    "def convert_time_stamp(payload):\n",
    "    return datetime.utcfromtimestamp(payload).strftime('%Y-%m-%d %H:%M:%S')"
   ]
  },
  {
   "cell_type": "code",
   "execution_count": 327,
   "id": "311c3c69-7fbc-40d3-b058-f2593556a0fe",
   "metadata": {},
   "outputs": [],
   "source": [
    "def get_user_info(username):\n",
    "    url = \"https://instagram28.p.rapidapi.com/user_info\"\n",
    "\n",
    "    querystring = {\"user_name\":f\"{username}\"}\n",
    "\n",
    "    headers = {\n",
    "        'x-rapidapi-host': \"instagram28.p.rapidapi.com\",\n",
    "        'x-rapidapi-key': \"XXX\"\n",
    "        }\n",
    "\n",
    "    response = requests.request(\"GET\", url, headers=headers, params=querystring)\n",
    "\n",
    "    return response.text"
   ]
  },
  {
   "cell_type": "code",
   "execution_count": 328,
   "id": "f9c0186f-b40a-460c-bc7c-7fad0b1d7de8",
   "metadata": {},
   "outputs": [],
   "source": [
    "def get_media(user_id, end_cursor=None):\n",
    "    url = \"https://instagram28.p.rapidapi.com/medias\"\n",
    "    \n",
    "    if end_cursor:\n",
    "        querystring = {\"user_id\":f\"{user_id}\",\"next_cursor\":f\"{end_cursor}\",\"batch_size\":\"40\"}\n",
    "    else:\n",
    "        querystring = {\"user_id\":f\"{user_id}\",\"batch_size\":\"40\"}\n",
    "\n",
    "    headers = {\n",
    "        'x-rapidapi-host': \"instagram28.p.rapidapi.com\",\n",
    "        'x-rapidapi-key': \"XXX\"\n",
    "        }\n",
    "\n",
    "    response = requests.request(\"GET\", url, headers=headers, params=querystring)\n",
    "\n",
    "    return response.text"
   ]
  },
  {
   "cell_type": "code",
   "execution_count": 329,
   "id": "7b2eced4-ea8d-4bfe-a34c-9c19282c6d06",
   "metadata": {},
   "outputs": [],
   "source": [
    "def get_user_id(resp):\n",
    "    if type(resp) != dict:\n",
    "        resp = json.loads(resp)\n",
    "    user_id = resp['data']['user']['id']\n",
    "    return user_id"
   ]
  },
  {
   "cell_type": "code",
   "execution_count": 362,
   "id": "255fd9bf-791d-48eb-b9f8-80d341f3911b",
   "metadata": {},
   "outputs": [],
   "source": [
    "def extract_end_cursor(user_info_payload):\n",
    "    if user_info_payload['data']['user']['edge_owner_to_timeline_media']['page_info']['has_next_page'] == True:\n",
    "        end_cursor = user_info_payload['data']['user']['edge_owner_to_timeline_media']['page_info']['end_cursor']\n",
    "        return end_cursor\n",
    "    else:\n",
    "        return None"
   ]
  },
  {
   "cell_type": "code",
   "execution_count": 363,
   "id": "e970de72-bba3-4c04-a37b-156cd84bd9b4",
   "metadata": {},
   "outputs": [],
   "source": [
    "def extract_media_information(node, user_info_payload):\n",
    "    if type(user_info_payload) != dict:\n",
    "        user_info_payload = json.loads(user_info_payload)\n",
    "    media_data = user_info_payload['data']['user']['edge_owner_to_timeline_media']['edges'][0]['node'].keys()\n",
    "    parent_media_df = pd.DataFrame(columns=media_data)\n",
    "\n",
    "    dictionary = {}\n",
    "    #for key,value in user_info_payload['data']['user']['edge_owner_to_timeline_media']['edges'][0]['node'].items():\n",
    "    for key,value in node['node'].items():\n",
    "        dictionary[key] = value\n",
    "        \n",
    "        #media_data = node['data']['user']['edge_owner_to_timeline_media']['edges'][0]['node'].keys()\n",
    "        #media_data = user_info_payload['data']['user']['edge_owner_to_timeline_media']['edges'][0]['node'].keys()\n",
    "        child_media_df = pd.DataFrame(columns=media_data)\n",
    "\n",
    "        child_media_df = child_media_df.append(dictionary, ignore_index=True)\n",
    "        child_media_df = child_media_df.iloc[-1]\n",
    "\n",
    "    parent_media_df = parent_media_df.append(child_media_df)\n",
    "    return parent_media_df"
   ]
  },
  {
   "cell_type": "code",
   "execution_count": 406,
   "id": "2446ff75-8bc8-46d1-b567-90185afe6043",
   "metadata": {},
   "outputs": [],
   "source": [
    "def get_media_dataframe(user_info_payload):\n",
    "    if type(user_info_payload) != dict:\n",
    "        user_info_payload = json.loads(user_info_payload)\n",
    "        \n",
    "    end_cursor = extract_end_cursor(user_info_payload)\n",
    "    \n",
    "    media_data = user_info_payload['data']['user']['edge_owner_to_timeline_media']['edges'][0]['node'].keys()\n",
    "    parent_media_df = pd.DataFrame(columns=media_data)\n",
    "    \n",
    "    for node in user_info_payload['data']['user']['edge_owner_to_timeline_media']['edges']:\n",
    "        dataframe = extract_media_information(node, user_info_payload)\n",
    "        parent_media_df = parent_media_df.append(dataframe, ignore_index=True)\n",
    "    \n",
    "    parent_media_df['taken_at_timestamp_fixed'] = parent_media_df['taken_at_timestamp'].apply(lambda x: convert_time_stamp(x))    \n",
    "    \n",
    "    return parent_media_df, end_cursor"
   ]
  },
  {
   "cell_type": "code",
   "execution_count": 365,
   "id": "73f9ca15-53f1-465d-aa6b-f0d2122ff4a8",
   "metadata": {},
   "outputs": [],
   "source": [
    "def main_search(nm_user_id):\n",
    "    media_payload = get_media(nm_user_id)\n",
    "    media_dataframe, end_cursor = get_media_dataframe(media_payload)\n",
    "    if end_cursor:\n",
    "        media_payload_2 = get_media(nm_user_id, end_cursor)\n",
    "        media_dataframe_2, end_cursor = get_media_dataframe(media_payload_2)\n",
    "        master_dataframe = media_dataframe.append(media_dataframe_2, ignore_index=True)\n",
    "    else:\n",
    "        master_dataframe = media_dataframe\n",
    "    return master_dataframe"
   ]
  },
  {
   "cell_type": "code",
   "execution_count": 435,
   "id": "846321f6-0a0f-4ce0-82d9-0f3e8e7805c6",
   "metadata": {},
   "outputs": [],
   "source": [
    "def write_user_info_to_file(user_info_payload):\n",
    "    json_user_info_payload = json.loads(user_info_payload)\n",
    "    name = json_user_info_payload['data']['user']['full_name']\n",
    "    text_file = open(f\"{name}_user_info.txt\", \"w\", encoding=\"utf-8\")\n",
    "    text_file.write(user_info_payload)\n",
    "    text_file.close()"
   ]
  },
  {
   "cell_type": "code",
   "execution_count": 432,
   "id": "b0fa5e87-8682-4589-82d0-a7aa4ff3e001",
   "metadata": {},
   "outputs": [],
   "source": [
    "def extract_images_from_url(url):\n",
    "    img_data = requests.get(url).content\n",
    "    filename = url.split('.jpg')[0].split('/')[-1]\n",
    "    with open(f'{filename}.jpg', 'wb') as handler:\n",
    "        handler.write(img_data)"
   ]
  },
  {
   "cell_type": "code",
   "execution_count": null,
   "id": "035d106c-ef6d-42cc-94a8-73f26347855d",
   "metadata": {},
   "outputs": [],
   "source": [
    "instagram_username = input('Enter Username Here')"
   ]
  },
  {
   "cell_type": "code",
   "execution_count": 434,
   "id": "131377d3-6d0c-4471-929c-11e6965da360",
   "metadata": {},
   "outputs": [
    {
     "data": {
      "application/vnd.jupyter.widget-view+json": {
       "model_id": "ddb44dc63bd64f29bf135f2e1fe10a59",
       "version_major": 2,
       "version_minor": 0
      },
      "text/plain": [
       "Checkbox(value=False, description='Download Images', indent=False)"
      ]
     },
     "metadata": {},
     "output_type": "display_data"
    },
    {
     "data": {
      "application/vnd.jupyter.widget-view+json": {
       "model_id": "add6115c5f5c403ba6458787988802a6",
       "version_major": 2,
       "version_minor": 0
      },
      "text/plain": [
       "Button(description='Search Instagram', style=ButtonStyle())"
      ]
     },
     "metadata": {},
     "output_type": "display_data"
    },
    {
     "data": {
      "application/vnd.jupyter.widget-view+json": {
       "model_id": "1debce60c3ea4e9d8a4cd3b80ebd0e65",
       "version_major": 2,
       "version_minor": 0
      },
      "text/plain": [
       "Output()"
      ]
     },
     "metadata": {},
     "output_type": "display_data"
    }
   ],
   "source": [
    "button = widgets.Button(description=\"Search Instagram\")\n",
    "output = widgets.Output()\n",
    "image_download_boolean = widgets.Checkbox(\n",
    "    value=False,\n",
    "    description='Download Images',\n",
    "    disabled=False,\n",
    "    indent=False\n",
    ")\n",
    "\n",
    "display(image_download_boolean, button, output)\n",
    "\n",
    "def on_button_clicked(b):\n",
    "    with output:\n",
    "        print(f\"Searching Instagram for User: {instagram_username}\")\n",
    "        user_info_payload = get_user_info(instagram_username)\n",
    "        nm_user_id = get_user_id(user_info_payload)\n",
    "        master_df = main_search(nm_user_id)\n",
    "        \n",
    "        try:\n",
    "            master_df.to_csv(f'{instagram_username}_media_file.csv')\n",
    "        except:\n",
    "            print('File with that name already exists')\n",
    "        \n",
    "        try:\n",
    "            write_user_info_to_file(user_info_payload)\n",
    "        except:\n",
    "            print('File with that name already exists')\n",
    "            \n",
    "        if image_download_boolean.value == True:\n",
    "            print('Starting Image Download')\n",
    "            master_df['display_url'].apply(lambda x: extract_images_from_url(x))\n",
    "        print('Search Complete.')\n",
    "\n",
    "button.on_click(on_button_clicked)"
   ]
  },
  {
   "cell_type": "code",
   "execution_count": 262,
   "id": "e67194f2-a032-4f0c-b3a9-8801bc90cca7",
   "metadata": {},
   "outputs": [],
   "source": [
    "def extract_media_tagged_users(dataframe):\n",
    "    media_user_column_data = dataframe['edge_media_to_tagged_user'][0]['edges'][0]['node']['user'].keys()\n",
    "    media_tagged_user_df = pd.DataFrame(columns=media_user_column_data)\n",
    "\n",
    "    dictionary = {}\n",
    "    #for key,value in user_info_payload['data']['user']['edge_owner_to_timeline_media']['edges'][0]['node'].items():\n",
    "    for entry in dataframe['edge_media_to_tagged_user'][0]['edges']:\n",
    "        for key,value in entry['node']['user'].items():\n",
    "            dictionary[key] = value\n",
    "\n",
    "            media_data = dataframe['edge_media_to_tagged_user'][0]['edges'][0]['node']['user'].keys()\n",
    "            child_media_df = pd.DataFrame(columns=media_data)\n",
    "\n",
    "            child_media_df = child_media_df.append(dictionary, ignore_index=True)\n",
    "            child_media_df = child_media_df.iloc[-1]\n",
    "\n",
    "        media_tagged_user_df = media_tagged_user_df.append(child_media_df)\n",
    "    return media_tagged_user_df"
   ]
  },
  {
   "cell_type": "code",
   "execution_count": null,
   "id": "ffd2580c-b7d9-4e18-a82e-8d64fb6db621",
   "metadata": {},
   "outputs": [],
   "source": [
    "dataframe['display_url'].apply(lambda x: extract_images_from_url(x))"
   ]
  }
 ],
 "metadata": {
  "kernelspec": {
   "display_name": "Python 3 (ipykernel)",
   "language": "python",
   "name": "python3"
  },
  "language_info": {
   "codemirror_mode": {
    "name": "ipython",
    "version": 3
   },
   "file_extension": ".py",
   "mimetype": "text/x-python",
   "name": "python",
   "nbconvert_exporter": "python",
   "pygments_lexer": "ipython3",
   "version": "3.8.11"
  }
 },
 "nbformat": 4,
 "nbformat_minor": 5
}
